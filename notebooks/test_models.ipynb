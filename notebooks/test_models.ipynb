{
 "cells": [
  {
   "cell_type": "code",
   "execution_count": 8,
   "id": "8ac7965c",
   "metadata": {},
   "outputs": [
    {
     "data": {
      "text/plain": [
       "<module 'models' from '/Users/rzeller/Documents/code/sandbox/notebooks/../models.py'>"
      ]
     },
     "execution_count": 8,
     "metadata": {},
     "output_type": "execute_result"
    }
   ],
   "source": [
    "from importlib import reload\n",
    "import sys\n",
    "sys.path.append(\"..\")\n",
    "\n",
    "from matplotlib import pylab as plt\n",
    "\n",
    "import create_data\n",
    "import models\n",
    "reload(create_data)\n",
    "reload(models)"
   ]
  },
  {
   "cell_type": "code",
   "execution_count": 7,
   "id": "7dbe780c",
   "metadata": {},
   "outputs": [
    {
     "name": "stdout",
     "output_type": "stream",
     "text": [
      "Model: \"sequential_1\"\n",
      "_________________________________________________________________\n",
      " Layer (type)                Output Shape              Param #   \n",
      "=================================================================\n",
      " conv2d_2 (Conv2D)           (None, 24, 24, 32)        832       \n",
      "                                                                 \n",
      " max_pooling2d_2 (MaxPooling  (None, 12, 12, 32)       0         \n",
      " 2D)                                                             \n",
      "                                                                 \n",
      " conv2d_3 (Conv2D)           (None, 8, 8, 64)          51264     \n",
      "                                                                 \n",
      " max_pooling2d_3 (MaxPooling  (None, 4, 4, 64)         0         \n",
      " 2D)                                                             \n",
      "                                                                 \n",
      " flatten_1 (Flatten)         (None, 1024)              0         \n",
      "                                                                 \n",
      " dense_1 (Dense)             (None, 128)               131200    \n",
      "                                                                 \n",
      " dense_2 (Dense)             (None, 10)                1290      \n",
      "                                                                 \n",
      "=================================================================\n",
      "Total params: 184,586\n",
      "Trainable params: 184,586\n",
      "Non-trainable params: 0\n",
      "_________________________________________________________________\n",
      "None\n",
      "Epoch 1/10\n",
      "1875/1875 [==============================] - 16s 8ms/step - loss: 0.2848 - accuracy: 0.9510 - val_loss: 0.0588 - val_accuracy: 0.9810\n",
      "Epoch 2/10\n",
      "1875/1875 [==============================] - 17s 9ms/step - loss: 0.0645 - accuracy: 0.9805 - val_loss: 0.0532 - val_accuracy: 0.9843\n",
      "Epoch 3/10\n",
      "1875/1875 [==============================] - 17s 9ms/step - loss: 0.0530 - accuracy: 0.9846 - val_loss: 0.0482 - val_accuracy: 0.9858\n",
      "Epoch 4/10\n",
      "1875/1875 [==============================] - 20s 11ms/step - loss: 0.0497 - accuracy: 0.9855 - val_loss: 0.0500 - val_accuracy: 0.9859\n",
      "Epoch 5/10\n",
      "1875/1875 [==============================] - 22s 12ms/step - loss: 0.0408 - accuracy: 0.9884 - val_loss: 0.0429 - val_accuracy: 0.9876\n",
      "Epoch 6/10\n",
      "1875/1875 [==============================] - 23s 12ms/step - loss: 0.0393 - accuracy: 0.9888 - val_loss: 0.0653 - val_accuracy: 0.9841\n",
      "Epoch 7/10\n",
      "1875/1875 [==============================] - 23s 12ms/step - loss: 0.0367 - accuracy: 0.9901 - val_loss: 0.0760 - val_accuracy: 0.9828\n",
      "Epoch 8/10\n",
      "1875/1875 [==============================] - 24s 13ms/step - loss: 0.0299 - accuracy: 0.9914 - val_loss: 0.0804 - val_accuracy: 0.9854\n",
      "Epoch 9/10\n",
      "1875/1875 [==============================] - 23s 12ms/step - loss: 0.0336 - accuracy: 0.9916 - val_loss: 0.0757 - val_accuracy: 0.9846\n",
      "Epoch 10/10\n",
      "1875/1875 [==============================] - 22s 12ms/step - loss: 0.0257 - accuracy: 0.9937 - val_loss: 0.0667 - val_accuracy: 0.9857\n"
     ]
    }
   ],
   "source": [
    "df = create_data.create_synthetic_data()\n",
    "\n",
    "x_train, y_train, x_test, y_test = models.preprocess_images(df)\n",
    "cnn = models.create_cnn(summarize=True, regress=True)\n",
    "\n",
    "cnn.compile(optimizer=\"adam\", loss=\"categorical_crossentropy\", metrics=[\"accuracy\"])\n",
    "\n",
    "epochs = 10\n",
    "history = cnn.fit(x_train, y_train, validation_data=(x_test, y_test), epochs=epochs,\n",
    "          batch_size=32, verbose=True)"
   ]
  },
  {
   "cell_type": "code",
   "execution_count": 9,
   "id": "8a5a5135",
   "metadata": {},
   "outputs": [
    {
     "data": {
      "text/plain": [
       "(0.975, 1.0)"
      ]
     },
     "execution_count": 9,
     "metadata": {},
     "output_type": "execute_result"
    },
    {
     "data": {
      "image/png": "[encoded data removed]",
      "text/plain": [
       "<Figure size 432x288 with 1 Axes>"
      ]
     },
     "metadata": {
      "needs_background": "light"
     },
     "output_type": "display_data"
    }
   ],
   "source": [
    "plt.plot(history.history['accuracy'], label='train')\n",
    "plt.plot(history.history['val_accuracy'], label='test')\n",
    "plt.legend(loc='best')\n",
    "plt.ylabel('accuracy')\n",
    "plt.ylim([0.975, 1])"
   ]
  },
  {
   "cell_type": "code",
   "execution_count": 12,
   "id": "15397a0e",
   "metadata": {},
   "outputs": [
    {
     "name": "stdout",
     "output_type": "stream",
     "text": [
      "Model: \"sequential_3\"\n",
      "_________________________________________________________________\n",
      " Layer (type)                Output Shape              Param #   \n",
      "=================================================================\n",
      " dense_7 (Dense)             (None, 32)                192       \n",
      "                                                                 \n",
      " dense_8 (Dense)             (None, 32)                1056      \n",
      "                                                                 \n",
      " dense_9 (Dense)             (None, 32)                1056      \n",
      "                                                                 \n",
      " dense_10 (Dense)            (None, 1)                 33        \n",
      "                                                                 \n",
      "=================================================================\n",
      "Total params: 2,337\n",
      "Trainable params: 2,337\n",
      "Non-trainable params: 0\n",
      "_________________________________________________________________\n",
      "None\n",
      "Epoch 1/15\n",
      "1875/1875 [==============================] - 2s 838us/step - loss: 3.7311 - mse: 3.7311 - val_loss: 0.1950 - val_mse: 0.1950\n",
      "Epoch 2/15\n",
      "1875/1875 [==============================] - 1s 772us/step - loss: 0.1315 - mse: 0.1315 - val_loss: 0.0949 - val_mse: 0.0949\n",
      "Epoch 3/15\n",
      "1875/1875 [==============================] - 1s 791us/step - loss: 0.0780 - mse: 0.0780 - val_loss: 0.0675 - val_mse: 0.0675\n",
      "Epoch 4/15\n",
      "1875/1875 [==============================] - 2s 831us/step - loss: 0.0557 - mse: 0.0557 - val_loss: 0.0443 - val_mse: 0.0443\n",
      "Epoch 5/15\n",
      "1875/1875 [==============================] - 1s 760us/step - loss: 0.0456 - mse: 0.0456 - val_loss: 0.0496 - val_mse: 0.0496\n",
      "Epoch 6/15\n",
      "1875/1875 [==============================] - 2s 822us/step - loss: 0.0397 - mse: 0.0397 - val_loss: 0.0303 - val_mse: 0.0303\n",
      "Epoch 7/15\n",
      "1875/1875 [==============================] - 2s 823us/step - loss: 0.0318 - mse: 0.0318 - val_loss: 0.0247 - val_mse: 0.0247\n",
      "Epoch 8/15\n",
      "1875/1875 [==============================] - 1s 785us/step - loss: 0.0287 - mse: 0.0287 - val_loss: 0.0483 - val_mse: 0.0483\n",
      "Epoch 9/15\n",
      "1875/1875 [==============================] - 2s 1ms/step - loss: 0.0248 - mse: 0.0248 - val_loss: 0.0258 - val_mse: 0.0258\n",
      "Epoch 10/15\n",
      "1875/1875 [==============================] - 2s 831us/step - loss: 0.0226 - mse: 0.0226 - val_loss: 0.0192 - val_mse: 0.0192\n",
      "Epoch 11/15\n",
      "1875/1875 [==============================] - 1s 761us/step - loss: 0.0211 - mse: 0.0211 - val_loss: 0.0206 - val_mse: 0.0206\n",
      "Epoch 12/15\n",
      "1875/1875 [==============================] - 2s 830us/step - loss: 0.0185 - mse: 0.0185 - val_loss: 0.0195 - val_mse: 0.0195\n",
      "Epoch 13/15\n",
      "1875/1875 [==============================] - 1s 749us/step - loss: 0.0178 - mse: 0.0178 - val_loss: 0.0114 - val_mse: 0.0114\n",
      "Epoch 14/15\n",
      "1875/1875 [==============================] - 2s 827us/step - loss: 0.0151 - mse: 0.0151 - val_loss: 0.0115 - val_mse: 0.0115\n",
      "Epoch 15/15\n",
      "1875/1875 [==============================] - 1s 783us/step - loss: 0.0149 - mse: 0.0149 - val_loss: 0.0156 - val_mse: 0.0156\n"
     ]
    },
    {
     "data": {
      "text/plain": [
       "(0.0, 0.1)"
      ]
     },
     "execution_count": 12,
     "metadata": {},
     "output_type": "execute_result"
    },
    {
     "data": {
      "image/png": "[encoded data removed]",
      "text/plain": [
       "<Figure size 432x288 with 1 Axes>"
      ]
     },
     "metadata": {
      "needs_background": "light"
     },
     "output_type": "display_data"
    }
   ],
   "source": [
    "continuous = ['pickup_x', 'pickup_y', 'dropoff_x', 'dropoff_y', 'weight']\n",
    "categorical = 'mnist_label'\n",
    "layer_sizes = [32,32,32]\n",
    "epochs = 15\n",
    "    \n",
    "x_train, y_train, x_test, y_test = models.preprocess_features(df, continuous=continuous, categorical=None)\n",
    "mlp = models.create_mlp(num_features=x_train.shape[1], layer_sizes=layer_sizes, regress=True, summarize=True)\n",
    "\n",
    "mlp.compile(optimizer=\"adam\", loss=\"mse\", metrics=[\"mse\"])\n",
    "\n",
    "history = mlp.fit(x_train, y_train, validation_data=(x_test, y_test), epochs=epochs,\n",
    "          batch_size=32, verbose=True)\n",
    "\n",
    "plt.plot(history.history['mse'], label='train')\n",
    "plt.plot(history.history['val_mse'], label='test')\n",
    "plt.legend(loc='best')\n",
    "plt.ylabel('mse')\n",
    "plt.ylim([0, .1])"
   ]
  },
  {
   "cell_type": "code",
   "execution_count": null,
   "id": "f4f1c393",
   "metadata": {},
   "outputs": [],
   "source": []
  }
 ],
 "metadata": {
  "kernelspec": {
   "display_name": "Python 3 (ipykernel)",
   "language": "python",
   "name": "python3"
  },
  "language_info": {
   "codemirror_mode": {
    "name": "ipython",
    "version": 3
   },
   "file_extension": ".py",
   "mimetype": "text/x-python",
   "name": "python",
   "nbconvert_exporter": "python",
   "pygments_lexer": "ipython3",
   "version": "3.9.7"
  }
 },
 "nbformat": 4,
 "nbformat_minor": 5
}
