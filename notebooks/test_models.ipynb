{
 "cells": [
  {
   "cell_type": "code",
   "execution_count": 1,
   "id": "7aacbe0f",
   "metadata": {},
   "outputs": [
    {
     "data": {
      "text/plain": [
       "<module 'models' from '/Users/rzeller/Documents/code/sandbox/notebooks/../models.py'>"
      ]
     },
     "execution_count": 1,
     "metadata": {},
     "output_type": "execute_result"
    }
   ],
   "source": [
    "from importlib import reload\n",
    "import sys\n",
    "sys.path.append(\"..\")\n",
    "\n",
    "from matplotlib import pylab as plt\n",
    "\n",
    "import create_data\n",
    "import models\n",
    "reload(create_data)\n",
    "reload(models)"
   ]
  },
  {
   "cell_type": "markdown",
   "id": "0a3d79da",
   "metadata": {},
   "source": [
    "# Test CNN on its own\n",
    "\n",
    "We'll train the CNN to predict the mnist labels."
   ]
  },
  {
   "cell_type": "code",
   "execution_count": 6,
   "id": "90eaeb5f",
   "metadata": {},
   "outputs": [
    {
     "name": "stdout",
     "output_type": "stream",
     "text": [
      "Model: \"model_1\"\n",
      "_________________________________________________________________\n",
      " Layer (type)                Output Shape              Param #   \n",
      "=================================================================\n",
      " input_2 (InputLayer)        [(None, 28, 28, 1)]       0         \n",
      "                                                                 \n",
      " conv2d_3 (Conv2D)           (None, 28, 28, 16)        160       \n",
      "                                                                 \n",
      " batch_normalization_3 (Batc  (None, 28, 28, 16)       64        \n",
      " hNormalization)                                                 \n",
      "                                                                 \n",
      " max_pooling2d_3 (MaxPooling  (None, 14, 14, 16)       0         \n",
      " 2D)                                                             \n",
      "                                                                 \n",
      " conv2d_4 (Conv2D)           (None, 14, 14, 32)        4640      \n",
      "                                                                 \n",
      " batch_normalization_4 (Batc  (None, 14, 14, 32)       128       \n",
      " hNormalization)                                                 \n",
      "                                                                 \n",
      " max_pooling2d_4 (MaxPooling  (None, 7, 7, 32)         0         \n",
      " 2D)                                                             \n",
      "                                                                 \n",
      " conv2d_5 (Conv2D)           (None, 7, 7, 64)          18496     \n",
      "                                                                 \n",
      " batch_normalization_5 (Batc  (None, 7, 7, 64)         256       \n",
      " hNormalization)                                                 \n",
      "                                                                 \n",
      " max_pooling2d_5 (MaxPooling  (None, 3, 3, 64)         0         \n",
      " 2D)                                                             \n",
      "                                                                 \n",
      " flatten_1 (Flatten)         (None, 576)               0         \n",
      "                                                                 \n",
      " dense_2 (Dense)             (None, 128)               73856     \n",
      "                                                                 \n",
      " dense_3 (Dense)             (None, 10)                1290      \n",
      "                                                                 \n",
      "=================================================================\n",
      "Total params: 98,890\n",
      "Trainable params: 98,666\n",
      "Non-trainable params: 224\n",
      "_________________________________________________________________\n",
      "None\n",
      "Epoch 1/10\n",
      "1875/1875 [==============================] - 20s 11ms/step - loss: 0.1086 - accuracy: 0.9666 - val_loss: 0.0592 - val_accuracy: 0.9812\n",
      "Epoch 2/10\n",
      "1875/1875 [==============================] - 21s 11ms/step - loss: 0.0425 - accuracy: 0.9863 - val_loss: 0.0349 - val_accuracy: 0.9885\n",
      "Epoch 3/10\n",
      "1875/1875 [==============================] - 22s 12ms/step - loss: 0.0328 - accuracy: 0.9896 - val_loss: 0.0330 - val_accuracy: 0.9897\n",
      "Epoch 4/10\n",
      "1875/1875 [==============================] - 22s 12ms/step - loss: 0.0269 - accuracy: 0.9916 - val_loss: 0.0458 - val_accuracy: 0.9856\n",
      "Epoch 5/10\n",
      "1875/1875 [==============================] - 23s 12ms/step - loss: 0.0221 - accuracy: 0.9935 - val_loss: 0.0340 - val_accuracy: 0.9904\n",
      "Epoch 6/10\n",
      "1875/1875 [==============================] - 24s 13ms/step - loss: 0.0176 - accuracy: 0.9944 - val_loss: 0.0387 - val_accuracy: 0.9907\n",
      "Epoch 7/10\n",
      "1875/1875 [==============================] - 25s 13ms/step - loss: 0.0152 - accuracy: 0.9953 - val_loss: 0.0353 - val_accuracy: 0.9910\n",
      "Epoch 8/10\n",
      "1875/1875 [==============================] - 24s 13ms/step - loss: 0.0150 - accuracy: 0.9954 - val_loss: 0.0506 - val_accuracy: 0.9880\n",
      "Epoch 9/10\n",
      "1875/1875 [==============================] - 25s 14ms/step - loss: 0.0108 - accuracy: 0.9965 - val_loss: 0.0687 - val_accuracy: 0.9828\n",
      "Epoch 10/10\n",
      "1875/1875 [==============================] - 27s 15ms/step - loss: 0.0118 - accuracy: 0.9961 - val_loss: 0.0360 - val_accuracy: 0.9910\n"
     ]
    }
   ],
   "source": [
    "df = create_data.create_synthetic_data()\n",
    "\n",
    "x_train, y_train, x_test, y_test = models.preprocess_images(df)\n",
    "cnn = models.create_cnn(input_shape=x_train[0].shape + (1,), summarize=True, regress=True)\n",
    "\n",
    "cnn.compile(optimizer=\"adam\", loss=\"categorical_crossentropy\", metrics=[\"accuracy\"])\n",
    "\n",
    "epochs = 10\n",
    "history = cnn.fit(x_train, y_train, validation_data=(x_test, y_test), epochs=epochs,\n",
    "          batch_size=32, verbose=True)\n"
   ]
  },
  {
   "cell_type": "code",
   "execution_count": 7,
   "id": "2fbd2cf8",
   "metadata": {},
   "outputs": [
    {
     "data": {
      "text/plain": [
       "(0.975, 1.0)"
      ]
     },
     "execution_count": 7,
     "metadata": {},
     "output_type": "execute_result"
    },
    {
     "data": {
      "image/png": "[encoded data removed]",
      "text/plain": [
       "<Figure size 432x288 with 1 Axes>"
      ]
     },
     "metadata": {
      "needs_background": "light"
     },
     "output_type": "display_data"
    }
   ],
   "source": [
    "plt.plot(history.history['accuracy'], label='train')\n",
    "plt.plot(history.history['val_accuracy'], label='test')\n",
    "plt.legend(loc='best')\n",
    "plt.ylabel('accuracy')\n",
    "plt.ylim([0.975, 1])"
   ]
  },
  {
   "cell_type": "markdown",
   "id": "6963dc64",
   "metadata": {},
   "source": [
    "# Test MLP on its own\n",
    "\n",
    "We'll train an MLP to predict the shipping fee given the pickup and dropoff locations and the mnist label given. By using the mnist label directly, this should mimic a scenario where the combined model does a good job of learning the useful information from the images."
   ]
  },
  {
   "cell_type": "code",
   "execution_count": 14,
   "id": "1221497d",
   "metadata": {},
   "outputs": [
    {
     "name": "stdout",
     "output_type": "stream",
     "text": [
      "Model: \"model_5\"\n",
      "_________________________________________________________________\n",
      " Layer (type)                Output Shape              Param #   \n",
      "=================================================================\n",
      " input_6 (InputLayer)        [(None, 14)]              0         \n",
      "                                                                 \n",
      " dense_15 (Dense)            (None, 32)                480       \n",
      "                                                                 \n",
      " dense_16 (Dense)            (None, 32)                1056      \n",
      "                                                                 \n",
      " dense_17 (Dense)            (None, 1)                 33        \n",
      "                                                                 \n",
      "=================================================================\n",
      "Total params: 1,569\n",
      "Trainable params: 1,569\n",
      "Non-trainable params: 0\n",
      "_________________________________________________________________\n",
      "None\n",
      "Epoch 1/10\n",
      "1875/1875 [==============================] - 2s 777us/step - loss: 5.2635 - mse: 5.2635 - val_loss: 0.3403 - val_mse: 0.3403\n",
      "Epoch 2/10\n",
      "1875/1875 [==============================] - 1s 735us/step - loss: 0.2074 - mse: 0.2074 - val_loss: 0.1456 - val_mse: 0.1456\n",
      "Epoch 3/10\n",
      "1875/1875 [==============================] - 1s 732us/step - loss: 0.1394 - mse: 0.1394 - val_loss: 0.1570 - val_mse: 0.1570\n",
      "Epoch 4/10\n",
      "1875/1875 [==============================] - 1s 729us/step - loss: 0.1263 - mse: 0.1263 - val_loss: 0.1161 - val_mse: 0.1161\n",
      "Epoch 5/10\n",
      "1875/1875 [==============================] - 1s 728us/step - loss: 0.1184 - mse: 0.1184 - val_loss: 0.1147 - val_mse: 0.1147\n",
      "Epoch 6/10\n",
      "1875/1875 [==============================] - 1s 745us/step - loss: 0.1121 - mse: 0.1121 - val_loss: 0.1167 - val_mse: 0.1167\n",
      "Epoch 7/10\n",
      "1875/1875 [==============================] - 1s 731us/step - loss: 0.1083 - mse: 0.1083 - val_loss: 0.1154 - val_mse: 0.1154\n",
      "Epoch 8/10\n",
      "1875/1875 [==============================] - 1s 736us/step - loss: 0.1065 - mse: 0.1065 - val_loss: 0.1061 - val_mse: 0.1061\n",
      "Epoch 9/10\n",
      "1875/1875 [==============================] - 1s 732us/step - loss: 0.1051 - mse: 0.1051 - val_loss: 0.1136 - val_mse: 0.1136\n",
      "Epoch 10/10\n",
      "1875/1875 [==============================] - 1s 734us/step - loss: 0.1037 - mse: 0.1037 - val_loss: 0.1025 - val_mse: 0.1025\n"
     ]
    }
   ],
   "source": [
    "continuous = ['pickup_x', 'pickup_y', 'dropoff_x', 'dropoff_y']\n",
    "categorical = ['mnist_label']\n",
    "layer_sizes = [32, 32]\n",
    "epochs = 10\n",
    "    \n",
    "x_train, y_train, x_test, y_test = models.preprocess_features(df, continuous=continuous, categorical=categorical)\n",
    "mlp = models.create_mlp(num_features=x_train.shape[1], layer_sizes=layer_sizes, regress=True, summarize=True)\n",
    "\n",
    "mlp.compile(optimizer=\"adam\", loss=\"mse\", metrics=[\"mse\"])\n",
    "\n",
    "history = mlp.fit(x_train, y_train, validation_data=(x_test, y_test), epochs=epochs,\n",
    "          batch_size=32, verbose=True)\n"
   ]
  },
  {
   "cell_type": "code",
   "execution_count": 19,
   "id": "f1bd0c7a",
   "metadata": {},
   "outputs": [
    {
     "data": {
      "text/plain": [
       "(0.0, 0.3)"
      ]
     },
     "execution_count": 19,
     "metadata": {},
     "output_type": "execute_result"
    },
    {
     "data": {
      "image/png": "[encoded data removed]",
      "text/plain": [
       "<Figure size 432x288 with 1 Axes>"
      ]
     },
     "metadata": {
      "needs_background": "light"
     },
     "output_type": "display_data"
    }
   ],
   "source": [
    "plt.plot(history.history['mse'], label='train')\n",
    "plt.plot(history.history['val_mse'], label='test')\n",
    "plt.legend(loc='best')\n",
    "plt.ylabel('mse')\n",
    "plt.ylim([0, .3])"
   ]
  },
  {
   "cell_type": "markdown",
   "id": "4f1aa9aa",
   "metadata": {},
   "source": [
    "# Test the combined model"
   ]
  },
  {
   "cell_type": "code",
   "execution_count": 30,
   "id": "7a9d0198",
   "metadata": {},
   "outputs": [
    {
     "name": "stdout",
     "output_type": "stream",
     "text": [
      "Epoch 1/10\n",
      "1875/1875 [==============================] - 38s 20ms/step - loss: 6.5538 - mse: 6.5538 - val_loss: 4.9818 - val_mse: 4.9818\n",
      "Epoch 2/10\n",
      "1875/1875 [==============================] - 39s 21ms/step - loss: 3.1002 - mse: 3.1002 - val_loss: 1.6767 - val_mse: 1.6767\n",
      "Epoch 3/10\n",
      "1875/1875 [==============================] - 39s 21ms/step - loss: 1.2557 - mse: 1.2557 - val_loss: 1.0110 - val_mse: 1.0110\n",
      "Epoch 4/10\n",
      "1875/1875 [==============================] - 37s 20ms/step - loss: 0.7141 - mse: 0.7141 - val_loss: 0.7647 - val_mse: 0.7647\n",
      "Epoch 5/10\n",
      "1875/1875 [==============================] - 30s 16ms/step - loss: 0.5761 - mse: 0.5761 - val_loss: 0.8456 - val_mse: 0.8456\n",
      "Epoch 6/10\n",
      "1875/1875 [==============================] - 29s 15ms/step - loss: 0.5063 - mse: 0.5063 - val_loss: 0.6173 - val_mse: 0.6173\n",
      "Epoch 7/10\n",
      "1875/1875 [==============================] - 29s 16ms/step - loss: 0.4550 - mse: 0.4550 - val_loss: 0.6615 - val_mse: 0.6615\n",
      "Epoch 8/10\n",
      "1875/1875 [==============================] - 30s 16ms/step - loss: 0.4216 - mse: 0.4216 - val_loss: 0.6702 - val_mse: 0.6702\n",
      "Epoch 9/10\n",
      "1875/1875 [==============================] - 28s 15ms/step - loss: 0.3923 - mse: 0.3923 - val_loss: 0.5221 - val_mse: 0.5221\n",
      "Epoch 10/10\n",
      "1875/1875 [==============================] - 31s 16ms/step - loss: 0.3763 - mse: 0.3763 - val_loss: 0.5029 - val_mse: 0.5029\n"
     ]
    }
   ],
   "source": [
    "import numpy as np\n",
    "from tensorflow.keras.layers import concatenate, Dense\n",
    "from tensorflow.keras.models import Model\n",
    "\n",
    "continuous = ['pickup_x', 'pickup_y', 'dropoff_x', 'dropoff_y']\n",
    "categorical = None\n",
    "mlp_layer_sizes = [32, 32]\n",
    "combined_layer_sizes = [32, 32, 32]\n",
    "\n",
    "\n",
    "images_train, _, images_test, _ = models.preprocess_images(df)\n",
    "features_train, y_train, features_test, y_test = models.preprocess_features(df, continuous=continuous, categorical=None)\n",
    "x_train = [images_train, features_train]\n",
    "x_test = [images_test, features_test]\n",
    "\n",
    "\n",
    "cnn = models.create_cnn(input_shape=images_train[0].shape + (1,))\n",
    "mlp = models.create_mlp(num_features=features_train.shape[1], layer_sizes=mlp_layer_sizes)\n",
    "\n",
    "def create_combined_model(mlp, cnn, layer_sizes=[32, 32]):\n",
    "    combined_output = concatenate([cnn.output, mlp.output])\n",
    "\n",
    "    for i, layer_size in enumerate(combined_layer_sizes):\n",
    "        if i == 0:\n",
    "            x = combined_output\n",
    "        x = Dense(4, activation=\"relu\")(x)\n",
    "\n",
    "\n",
    "    x = Dense(1, activation=\"linear\")(x)\n",
    "    \n",
    "    model = Model(inputs=[cnn.input, mlp.input], outputs=x)\n",
    "    \n",
    "    return model\n",
    "\n",
    "model = create_combined_model(mlp, cnn, layer_sizes=combined_layer_sizes)\n",
    "\n",
    "\n",
    "epochs = 10\n",
    "\n",
    "model.compile(optimizer='adam', loss='mse', metrics=['mse'])\n",
    "\n",
    "history = model.fit(x=x_train, y=y_train, validation_data=(x_test, y_test), epochs=epochs,\n",
    "          batch_size=32, verbose=True)\n",
    "\n"
   ]
  },
  {
   "cell_type": "code",
   "execution_count": 61,
   "id": "fb4f65fa",
   "metadata": {},
   "outputs": [
    {
     "name": "stdout",
     "output_type": "stream",
     "text": [
      "Epoch 1/10\n",
      "1875/1875 [==============================] - 24s 13ms/step - loss: 3.0434 - mse: 3.0434 - val_loss: 0.8752 - val_mse: 0.8752\n",
      "Epoch 2/10\n",
      "1875/1875 [==============================] - 25s 13ms/step - loss: 0.5661 - mse: 0.5661 - val_loss: 0.6792 - val_mse: 0.6792\n",
      "Epoch 3/10\n",
      "1875/1875 [==============================] - 26s 14ms/step - loss: 0.4313 - mse: 0.4313 - val_loss: 0.8667 - val_mse: 0.8667\n",
      "Epoch 4/10\n",
      "1875/1875 [==============================] - 23s 12ms/step - loss: 0.3628 - mse: 0.3628 - val_loss: 0.4306 - val_mse: 0.4306\n",
      "Epoch 5/10\n",
      "1875/1875 [==============================] - 24s 13ms/step - loss: 0.2987 - mse: 0.2987 - val_loss: 0.4679 - val_mse: 0.4679\n",
      "Epoch 6/10\n",
      "1875/1875 [==============================] - 26s 14ms/step - loss: 0.2600 - mse: 0.2600 - val_loss: 0.3971 - val_mse: 0.3971\n",
      "Epoch 7/10\n",
      "1875/1875 [==============================] - 25s 13ms/step - loss: 0.2508 - mse: 0.2508 - val_loss: 0.3915 - val_mse: 0.3915\n",
      "Epoch 8/10\n",
      "1875/1875 [==============================] - 27s 14ms/step - loss: 0.2072 - mse: 0.2072 - val_loss: 0.3540 - val_mse: 0.3540\n",
      "Epoch 9/10\n",
      "1875/1875 [==============================] - 28s 15ms/step - loss: 0.2074 - mse: 0.2074 - val_loss: 0.4451 - val_mse: 0.4451\n",
      "Epoch 10/10\n",
      "1875/1875 [==============================] - 27s 14ms/step - loss: 0.1851 - mse: 0.1851 - val_loss: 0.3595 - val_mse: 0.3595\n"
     ]
    }
   ],
   "source": [
    "import numpy as np\n",
    "from tensorflow.keras.layers import concatenate, Dense\n",
    "from tensorflow.keras.models import Model\n",
    "import models\n",
    "reload(models)\n",
    "\n",
    "continuous = ['pickup_x', 'pickup_y', 'dropoff_x', 'dropoff_y']\n",
    "categorical = None\n",
    "mlp_layer_sizes = [32, 32]\n",
    "combined_layer_sizes = [32, 32, 32]\n",
    "\n",
    "\n",
    "x_train, y_train, x_test, y_test = models.preprocess(df, continuous=continuous, categorical=categorical)\n",
    "# images_train, features_train = x_train\n",
    "# images_test, features_test = x_test\n",
    "\n",
    "model = models.create_combined_model(image_shape=x_train[0][0].shape + (1,), \n",
    "                                     num_features=x_train[1].shape[1], \n",
    "                                     mlp_layer_sizes=mlp_layer_sizes, \n",
    "                                     combined_layer_sizes=combined_layer_sizes)\n",
    "\n",
    "\n",
    "epochs = 10\n",
    "\n",
    "model.compile(optimizer='adam', loss='mse', metrics=['mse'])\n",
    "\n",
    "history = model.fit(x=x_train, y=y_train, validation_data=(x_test, y_test), epochs=epochs,\n",
    "          batch_size=32, verbose=True)\n",
    "\n"
   ]
  },
  {
   "cell_type": "code",
   "execution_count": 44,
   "id": "303b0d9c",
   "metadata": {},
   "outputs": [
    {
     "data": {
      "text/plain": [
       "(0.0, 2.0)"
      ]
     },
     "execution_count": 44,
     "metadata": {},
     "output_type": "execute_result"
    },
    {
     "data": {
      "image/png": "[encoded data removed]",
      "text/plain": [
       "<Figure size 432x288 with 1 Axes>"
      ]
     },
     "metadata": {
      "needs_background": "light"
     },
     "output_type": "display_data"
    }
   ],
   "source": [
    "plt.plot(history.history['mse'], label='train')\n",
    "plt.plot(history.history['val_mse'], label='test')\n",
    "plt.legend(loc='best')\n",
    "plt.ylabel('mse')\n",
    "plt.ylim([0,2])"
   ]
  },
  {
   "cell_type": "markdown",
   "id": "93b08477",
   "metadata": {},
   "source": [
    "With some hyperparameter tuning, we can get the network to achieve an MSE that is on the same order as the MLP that was given the mnist labels directly. Next, let's see if we can use multi-task learning where the weights are given for some of the data to improve the performance."
   ]
  },
  {
   "cell_type": "markdown",
   "id": "116c667a",
   "metadata": {},
   "source": [
    "# Multi-task learning"
   ]
  },
  {
   "cell_type": "code",
   "execution_count": 78,
   "id": "ba9ce8ad",
   "metadata": {},
   "outputs": [
    {
     "name": "stdout",
     "output_type": "stream",
     "text": [
      "Epoch 1/10\n",
      "1875/1875 [==============================] - 22s 11ms/step - loss: 2.9908 - weight_loss: 0.2287 - shipping_fee_loss: 2.9679 - weight_mse: 0.2287 - shipping_fee_mse: 2.9679 - val_loss: 0.7988 - val_weight_loss: 0.1190 - val_shipping_fee_loss: 0.7869 - val_weight_mse: 0.1190 - val_shipping_fee_mse: 0.7869\n",
      "Epoch 2/10\n",
      "1875/1875 [==============================] - 21s 11ms/step - loss: 0.6207 - weight_loss: 0.1028 - shipping_fee_loss: 0.6104 - weight_mse: 0.1028 - shipping_fee_mse: 0.6104 - val_loss: 0.4816 - val_weight_loss: 0.0926 - val_shipping_fee_loss: 0.4723 - val_weight_mse: 0.0926 - val_shipping_fee_mse: 0.4723\n",
      "Epoch 3/10\n",
      "1875/1875 [==============================] - 20s 11ms/step - loss: 0.4205 - weight_loss: 0.0907 - shipping_fee_loss: 0.4114 - weight_mse: 0.0907 - shipping_fee_mse: 0.4114 - val_loss: 0.5880 - val_weight_loss: 0.0901 - val_shipping_fee_loss: 0.5790 - val_weight_mse: 0.0901 - val_shipping_fee_mse: 0.5790\n",
      "Epoch 4/10\n",
      "1875/1875 [==============================] - 21s 11ms/step - loss: 0.3589 - weight_loss: 0.0901 - shipping_fee_loss: 0.3498 - weight_mse: 0.0901 - shipping_fee_mse: 0.3498 - val_loss: 0.7732 - val_weight_loss: 0.0900 - val_shipping_fee_loss: 0.7642 - val_weight_mse: 0.0900 - val_shipping_fee_mse: 0.7642\n",
      "Epoch 5/10\n",
      "1875/1875 [==============================] - 27s 14ms/step - loss: 0.2935 - weight_loss: 0.0901 - shipping_fee_loss: 0.2845 - weight_mse: 0.0901 - shipping_fee_mse: 0.2845 - val_loss: 0.3995 - val_weight_loss: 0.0900 - val_shipping_fee_loss: 0.3905 - val_weight_mse: 0.0900 - val_shipping_fee_mse: 0.3905\n",
      "Epoch 6/10\n",
      "1875/1875 [==============================] - 30s 16ms/step - loss: 0.2607 - weight_loss: 0.0901 - shipping_fee_loss: 0.2517 - weight_mse: 0.0901 - shipping_fee_mse: 0.2517 - val_loss: 0.4265 - val_weight_loss: 0.0900 - val_shipping_fee_loss: 0.4175 - val_weight_mse: 0.0900 - val_shipping_fee_mse: 0.4175\n",
      "Epoch 7/10\n",
      "1875/1875 [==============================] - 27s 15ms/step - loss: 0.2578 - weight_loss: 0.0901 - shipping_fee_loss: 0.2488 - weight_mse: 0.0901 - shipping_fee_mse: 0.2488 - val_loss: 0.3503 - val_weight_loss: 0.0900 - val_shipping_fee_loss: 0.3413 - val_weight_mse: 0.0900 - val_shipping_fee_mse: 0.3413\n",
      "Epoch 8/10\n",
      "1875/1875 [==============================] - 25s 13ms/step - loss: 0.2204 - weight_loss: 0.0900 - shipping_fee_loss: 0.2114 - weight_mse: 0.0900 - shipping_fee_mse: 0.2114 - val_loss: 0.4061 - val_weight_loss: 0.0900 - val_shipping_fee_loss: 0.3971 - val_weight_mse: 0.0900 - val_shipping_fee_mse: 0.3971\n",
      "Epoch 9/10\n",
      "1875/1875 [==============================] - 26s 14ms/step - loss: 0.1992 - weight_loss: 0.0901 - shipping_fee_loss: 0.1901 - weight_mse: 0.0901 - shipping_fee_mse: 0.1901 - val_loss: 0.4074 - val_weight_loss: 0.0900 - val_shipping_fee_loss: 0.3984 - val_weight_mse: 0.0900 - val_shipping_fee_mse: 0.3984\n",
      "Epoch 10/10\n",
      "1875/1875 [==============================] - 28s 15ms/step - loss: 0.1951 - weight_loss: 0.0901 - shipping_fee_loss: 0.1861 - weight_mse: 0.0901 - shipping_fee_mse: 0.1861 - val_loss: 0.3930 - val_weight_loss: 0.0900 - val_shipping_fee_loss: 0.3840 - val_weight_mse: 0.0900 - val_shipping_fee_mse: 0.3840\n"
     ]
    }
   ],
   "source": [
    "import numpy as np\n",
    "from tensorflow.keras.layers import concatenate, Dense\n",
    "from tensorflow.keras.models import Model\n",
    "import models\n",
    "reload(models)\n",
    "\n",
    "continuous = ['pickup_x', 'pickup_y', 'dropoff_x', 'dropoff_y']\n",
    "categorical = None\n",
    "mlp_layer_sizes = [32, 32]\n",
    "combined_layer_sizes = [32, 32, 32]\n",
    "\n",
    "\n",
    "processed_data = models.preprocess_multitask(df, continuous=continuous, categorical=categorical)\n",
    "x_train, weights_train, fees_train, x_test, weights_test, fees_test = processed_data\n",
    "    \n",
    "model = models.create_multitask_model(image_shape=x_train[0][0].shape + (1,), \n",
    "                                      num_features=x_train[1].shape[1],\n",
    "                                      mlp_layer_sizes=mlp_layer_sizes,\n",
    "                                      combined_layer_sizes=combined_layer_sizes,\n",
    "                                      weight_input='cnn'\n",
    "                                     )\n",
    "\n",
    "\n",
    "epochs = 10\n",
    "\n",
    "model.compile(optimizer='adam', loss='mse', metrics=['mse'], loss_weights={'weight': 1e-1, 'shipping_fee': 1.})\n",
    "\n",
    "history = model.fit(x=x_train, \n",
    "                    y={'weight': weights_train, 'shipping_fee': fees_train},\n",
    "                    validation_data=(x_test, {'weight': weights_test, 'shipping_fee': fees_test}),\n",
    "                    epochs=epochs,\n",
    "                    batch_size=32,\n",
    "                    verbose=True\n",
    "                   )\n"
   ]
  },
  {
   "cell_type": "code",
   "execution_count": 79,
   "id": "649e0626",
   "metadata": {},
   "outputs": [
    {
     "data": {
      "text/plain": [
       "(0.0, 2.0)"
      ]
     },
     "execution_count": 79,
     "metadata": {},
     "output_type": "execute_result"
    },
    {
     "data": {
      "image/png": "[encoded data removed]",
      "text/plain": [
       "<Figure size 432x288 with 1 Axes>"
      ]
     },
     "metadata": {
      "needs_background": "light"
     },
     "output_type": "display_data"
    }
   ],
   "source": [
    "metric = 'shipping_fee'\n",
    "plt.plot(history.history[metric + '_mse'], label='train')\n",
    "plt.plot(history.history['val_' + metric + '_mse'], label='test')\n",
    "plt.legend(loc='best')\n",
    "plt.ylabel(metric + '_mse')\n",
    "plt.ylim([0,2])"
   ]
  },
  {
   "cell_type": "code",
   "execution_count": null,
   "id": "e16618a4",
   "metadata": {},
   "outputs": [],
   "source": []
  }
 ],
 "metadata": {
  "kernelspec": {
   "display_name": "Python 3 (ipykernel)",
   "language": "python",
   "name": "python3"
  },
  "language_info": {
   "codemirror_mode": {
    "name": "ipython",
    "version": 3
   },
   "file_extension": ".py",
   "mimetype": "text/x-python",
   "name": "python",
   "nbconvert_exporter": "python",
   "pygments_lexer": "ipython3",
   "version": "3.9.7"
  }
 },
 "nbformat": 4,
 "nbformat_minor": 5
}
