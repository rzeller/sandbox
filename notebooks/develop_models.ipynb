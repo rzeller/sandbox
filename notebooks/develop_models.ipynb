{
 "cells": [
  {
   "cell_type": "markdown",
   "metadata": {
    "colab_type": "text",
    "id": "view-in-github"
   },
   "source": [
    "<a href=\"https://colab.research.google.com/github/rzeller/sandbox/blob/main/notebooks/develop_models.ipynb\" target=\"_parent\"><img src=\"https://colab.research.google.com/assets/colab-badge.svg\" alt=\"Open In Colab\"/></a>"
   ]
  },
  {
   "cell_type": "code",
   "execution_count": 18,
   "metadata": {
    "colab": {
     "base_uri": "https://localhost:8080/"
    },
    "id": "iEbHwdqBQ3xO",
    "outputId": "e822d79e-34a6-4620-b323-e85a0c592c29"
   },
   "outputs": [
    {
     "name": "stdout",
     "output_type": "stream",
     "text": [
      "Mounted at /content/drive\n"
     ]
    }
   ],
   "source": [
    "from google.colab import drive\n",
    "drive.mount('/content/drive')"
   ]
  },
  {
   "cell_type": "code",
   "execution_count": 19,
   "metadata": {
    "colab": {
     "base_uri": "https://localhost:8080/"
    },
    "id": "D-D9OiWBRCII",
    "outputId": "042efbd1-65a0-4fdf-97cf-2f2e44848368"
   },
   "outputs": [
    {
     "name": "stdout",
     "output_type": "stream",
     "text": [
      "/content/drive/MyDrive/code/sandbox\n"
     ]
    }
   ],
   "source": [
    "cd /content/drive/MyDrive/code/sandbox"
   ]
  },
  {
   "cell_type": "code",
   "execution_count": 20,
   "metadata": {
    "colab": {
     "base_uri": "https://localhost:8080/"
    },
    "id": "NNh--rXhRsuX",
    "outputId": "236dbda1-2b6a-40c8-c7e3-0eaed61ed16c"
   },
   "outputs": [
    {
     "name": "stdout",
     "output_type": "stream",
     "text": [
      "remote: Enumerating objects: 9, done.\u001b[K\n",
      "remote: Counting objects:  11% (1/9)\u001b[K\r",
      "remote: Counting objects:  22% (2/9)\u001b[K\r",
      "remote: Counting objects:  33% (3/9)\u001b[K\r",
      "remote: Counting objects:  44% (4/9)\u001b[K\r",
      "remote: Counting objects:  55% (5/9)\u001b[K\r",
      "remote: Counting objects:  66% (6/9)\u001b[K\r",
      "remote: Counting objects:  77% (7/9)\u001b[K\r",
      "remote: Counting objects:  88% (8/9)\u001b[K\r",
      "remote: Counting objects: 100% (9/9)\u001b[K\r",
      "remote: Counting objects: 100% (9/9), done.\u001b[K\n",
      "remote: Compressing objects:  20% (1/5)\u001b[K\r",
      "remote: Compressing objects:  40% (2/5)\u001b[K\r",
      "remote: Compressing objects:  60% (3/5)\u001b[K\r",
      "remote: Compressing objects:  80% (4/5)\u001b[K\r",
      "remote: Compressing objects: 100% (5/5)\u001b[K\r",
      "remote: Compressing objects: 100% (5/5), done.\u001b[K\n",
      "remote: Total 7 (delta 2), reused 4 (delta 1), pack-reused 0\u001b[K\n",
      "Unpacking objects: 100% (7/7), done.\n",
      "From https://github.com/rzeller/sandbox\n",
      " * branch            HEAD       -> FETCH_HEAD\n",
      "Updating eb6e2aa..caa7a25\n",
      "Fast-forward\n",
      " notebooks/develop_models.ipynb | 625 \u001b[32m+++++++++++++++++++++++++++++++++++++++++\u001b[m\n",
      " 1 file changed, 625 insertions(+)\n",
      " create mode 100644 notebooks/develop_models.ipynb\n"
     ]
    }
   ],
   "source": [
    "!git pull origin HEAD"
   ]
  },
  {
   "cell_type": "markdown",
   "metadata": {},
   "source": [
    "# Generating the synthetic data\n",
    "\n",
    "We start by generating the synthetic data."
   ]
  },
  {
   "cell_type": "code",
   "execution_count": 1,
   "metadata": {
    "colab": {
     "base_uri": "https://localhost:8080/"
    },
    "id": "_cm26N_oRLiz",
    "outputId": "7c3f15c0-0742-4c36-fdfe-763847249393"
   },
   "outputs": [
    {
     "data": {
      "text/plain": [
       "<module 'create_data' from '/Users/rzeller/Documents/code/sandbox/notebooks/../create_data.py'>"
      ]
     },
     "execution_count": 1,
     "metadata": {},
     "output_type": "execute_result"
    }
   ],
   "source": [
    "from importlib import reload\n",
    "import sys\n",
    "sys.path.append(\"..\")\n",
    "\n",
    "import create_data\n",
    "reload(create_data)"
   ]
  },
  {
   "cell_type": "code",
   "execution_count": 2,
   "metadata": {
    "id": "pBTHtD8FRXDP"
   },
   "outputs": [],
   "source": [
    "df = create_data.create_synthetic_data()"
   ]
  },
  {
   "cell_type": "code",
   "execution_count": 3,
   "metadata": {
    "colab": {
     "base_uri": "https://localhost:8080/",
     "height": 380
    },
    "id": "fkD9znWmReKl",
    "outputId": "7df0bd37-046c-4c2a-fec8-0d4de482bdf7"
   },
   "outputs": [
    {
     "data": {
      "text/html": [
       "<div>\n",
       "<style scoped>\n",
       "    .dataframe tbody tr th:only-of-type {\n",
       "        vertical-align: middle;\n",
       "    }\n",
       "\n",
       "    .dataframe tbody tr th {\n",
       "        vertical-align: top;\n",
       "    }\n",
       "\n",
       "    .dataframe thead th {\n",
       "        text-align: right;\n",
       "    }\n",
       "</style>\n",
       "<table border=\"1\" class=\"dataframe\">\n",
       "  <thead>\n",
       "    <tr style=\"text-align: right;\">\n",
       "      <th></th>\n",
       "      <th>mnist_label</th>\n",
       "      <th>image</th>\n",
       "      <th>weight</th>\n",
       "      <th>pickup_x</th>\n",
       "      <th>pickup_y</th>\n",
       "      <th>dropoff_x</th>\n",
       "      <th>dropoff_y</th>\n",
       "      <th>distance</th>\n",
       "      <th>shipping_fee</th>\n",
       "      <th>train_test</th>\n",
       "    </tr>\n",
       "  </thead>\n",
       "  <tbody>\n",
       "    <tr>\n",
       "      <th>0</th>\n",
       "      <td>5</td>\n",
       "      <td>[[0, 0, 0, 0, 0, 0, 0, 0, 0, 0, 0, 0, 0, 0, 0,...</td>\n",
       "      <td>5.152541</td>\n",
       "      <td>825.204338</td>\n",
       "      <td>501.569189</td>\n",
       "      <td>2399.712068</td>\n",
       "      <td>961.215342</td>\n",
       "      <td>1640.228392</td>\n",
       "      <td>8.451344</td>\n",
       "      <td>train</td>\n",
       "    </tr>\n",
       "    <tr>\n",
       "      <th>1</th>\n",
       "      <td>0</td>\n",
       "      <td>[[0, 0, 0, 0, 0, 0, 0, 0, 0, 0, 0, 0, 0, 0, 0,...</td>\n",
       "      <td>-0.148826</td>\n",
       "      <td>2684.808476</td>\n",
       "      <td>46.507780</td>\n",
       "      <td>1927.093473</td>\n",
       "      <td>762.862387</td>\n",
       "      <td>1042.734842</td>\n",
       "      <td>5.000000</td>\n",
       "      <td>train</td>\n",
       "    </tr>\n",
       "    <tr>\n",
       "      <th>2</th>\n",
       "      <td>4</td>\n",
       "      <td>[[0, 0, 0, 0, 0, 0, 0, 0, 0, 0, 0, 0, 0, 0, 0,...</td>\n",
       "      <td>4.091642</td>\n",
       "      <td>1103.542517</td>\n",
       "      <td>503.823956</td>\n",
       "      <td>2263.196730</td>\n",
       "      <td>161.049650</td>\n",
       "      <td>1209.252710</td>\n",
       "      <td>5.000000</td>\n",
       "      <td>train</td>\n",
       "    </tr>\n",
       "    <tr>\n",
       "      <th>3</th>\n",
       "      <td>1</td>\n",
       "      <td>[[0, 0, 0, 0, 0, 0, 0, 0, 0, 0, 0, 0, 0, 0, 0,...</td>\n",
       "      <td>1.212798</td>\n",
       "      <td>2.429143</td>\n",
       "      <td>644.672512</td>\n",
       "      <td>834.275842</td>\n",
       "      <td>820.539213</td>\n",
       "      <td>850.234102</td>\n",
       "      <td>5.000000</td>\n",
       "      <td>train</td>\n",
       "    </tr>\n",
       "    <tr>\n",
       "      <th>4</th>\n",
       "      <td>9</td>\n",
       "      <td>[[0, 0, 0, 0, 0, 0, 0, 0, 0, 0, 0, 0, 0, 0, 0,...</td>\n",
       "      <td>9.268218</td>\n",
       "      <td>1309.729941</td>\n",
       "      <td>244.172206</td>\n",
       "      <td>2672.771419</td>\n",
       "      <td>754.563365</td>\n",
       "      <td>1455.465976</td>\n",
       "      <td>13.489576</td>\n",
       "      <td>train</td>\n",
       "    </tr>\n",
       "  </tbody>\n",
       "</table>\n",
       "</div>"
      ],
      "text/plain": [
       "   mnist_label                                              image    weight  \\\n",
       "0            5  [[0, 0, 0, 0, 0, 0, 0, 0, 0, 0, 0, 0, 0, 0, 0,...  5.152541   \n",
       "1            0  [[0, 0, 0, 0, 0, 0, 0, 0, 0, 0, 0, 0, 0, 0, 0,... -0.148826   \n",
       "2            4  [[0, 0, 0, 0, 0, 0, 0, 0, 0, 0, 0, 0, 0, 0, 0,...  4.091642   \n",
       "3            1  [[0, 0, 0, 0, 0, 0, 0, 0, 0, 0, 0, 0, 0, 0, 0,...  1.212798   \n",
       "4            9  [[0, 0, 0, 0, 0, 0, 0, 0, 0, 0, 0, 0, 0, 0, 0,...  9.268218   \n",
       "\n",
       "      pickup_x    pickup_y    dropoff_x   dropoff_y     distance  \\\n",
       "0   825.204338  501.569189  2399.712068  961.215342  1640.228392   \n",
       "1  2684.808476   46.507780  1927.093473  762.862387  1042.734842   \n",
       "2  1103.542517  503.823956  2263.196730  161.049650  1209.252710   \n",
       "3     2.429143  644.672512   834.275842  820.539213   850.234102   \n",
       "4  1309.729941  244.172206  2672.771419  754.563365  1455.465976   \n",
       "\n",
       "   shipping_fee train_test  \n",
       "0      8.451344      train  \n",
       "1      5.000000      train  \n",
       "2      5.000000      train  \n",
       "3      5.000000      train  \n",
       "4     13.489576      train  "
      ]
     },
     "execution_count": 3,
     "metadata": {},
     "output_type": "execute_result"
    }
   ],
   "source": [
    "df.head()"
   ]
  },
  {
   "cell_type": "code",
   "execution_count": null,
   "metadata": {
    "id": "2hG8lryDRiNq"
   },
   "outputs": [],
   "source": []
  },
  {
   "cell_type": "markdown",
   "metadata": {
    "id": "y0TfEfxqSeZk"
   },
   "source": [
    "# Create the CNN\n",
    "\n",
    "We create a convolutional neural net and show that it can predict the mnist labels with >98% accuracy on the test data.\n"
   ]
  },
  {
   "cell_type": "code",
   "execution_count": 87,
   "metadata": {
    "id": "Tk7EpfUaShsQ"
   },
   "outputs": [
    {
     "ename": "IndentationError",
     "evalue": "expected an indented block (461165583.py, line 18)",
     "output_type": "error",
     "traceback": [
      "\u001b[0;36m  File \u001b[0;32m\"/var/folders/pc/8zrhplhx5mj0ygxhmvd5t9b00000gn/T/ipykernel_26324/461165583.py\"\u001b[0;36m, line \u001b[0;32m18\u001b[0m\n\u001b[0;31m    model.add(Dense(10, activation='softmax'))\u001b[0m\n\u001b[0m    ^\u001b[0m\n\u001b[0;31mIndentationError\u001b[0m\u001b[0;31m:\u001b[0m expected an indented block\n"
     ]
    }
   ],
   "source": [
    "#models\n",
    "import tensorflow\n",
    "import numpy as np\n",
    "from keras.models import Sequential\n",
    "from keras.layers import Dense, Dropout, Flatten, Conv2D, MaxPool2D, AvgPool2D, BatchNormalization, Reshape\n",
    "\n",
    "# 784 - [32C5-P2] - [64C5-P2] - 128 -10\n",
    "def create_cnn(regress=False, summarize=False):\n",
    "    model = Sequential()\n",
    "    model.add(Conv2D(filters=32, kernel_size=5, activation='relu', input_shape=(28, 28, 1)))\n",
    "    model.add(MaxPool2D())\n",
    "    model.add(Conv2D(filters=64, kernel_size=5, activation='relu'))\n",
    "    model.add(MaxPool2D())\n",
    "    model.add(Flatten())\n",
    "    model.add(Dense(128, activation='relu'))\n",
    "\n",
    "    if regress:\n",
    "    model.add(Dense(10, activation='softmax'))\n",
    "\n",
    "    if summarize:\n",
    "    print(model.summary())\n",
    "\n",
    "    return model\n"
   ]
  },
  {
   "cell_type": "code",
   "execution_count": 1,
   "metadata": {
    "colab": {
     "base_uri": "https://localhost:8080/"
    },
    "id": "hKxozxPshZLK",
    "outputId": "7b8e7ea4-0c97-4945-95f0-15071a9e9bb5"
   },
   "outputs": [
    {
     "ename": "NameError",
     "evalue": "name 'np' is not defined",
     "output_type": "error",
     "traceback": [
      "\u001b[0;31m---------------------------------------------------------------------------\u001b[0m",
      "\u001b[0;31mNameError\u001b[0m                                 Traceback (most recent call last)",
      "\u001b[0;32m/var/folders/pc/8zrhplhx5mj0ygxhmvd5t9b00000gn/T/ipykernel_72725/3887578573.py\u001b[0m in \u001b[0;36m<module>\u001b[0;34m\u001b[0m\n\u001b[1;32m      4\u001b[0m \u001b[0;31m# (x_train, y_train), (x_test, y_test) = tf.keras.datasets.mnist.load_data()\u001b[0m\u001b[0;34m\u001b[0m\u001b[0;34m\u001b[0m\u001b[0m\n\u001b[1;32m      5\u001b[0m \u001b[0;34m\u001b[0m\u001b[0m\n\u001b[0;32m----> 6\u001b[0;31m \u001b[0mx_train\u001b[0m \u001b[0;34m=\u001b[0m \u001b[0mnp\u001b[0m\u001b[0;34m.\u001b[0m\u001b[0mstack\u001b[0m\u001b[0;34m(\u001b[0m\u001b[0mdf\u001b[0m\u001b[0;34m[\u001b[0m\u001b[0mdf\u001b[0m\u001b[0;34m[\u001b[0m\u001b[0;34m'train_test'\u001b[0m\u001b[0;34m]\u001b[0m\u001b[0;34m==\u001b[0m\u001b[0;34m'train'\u001b[0m\u001b[0;34m]\u001b[0m\u001b[0;34m[\u001b[0m\u001b[0;34m'image'\u001b[0m\u001b[0;34m]\u001b[0m\u001b[0;34m)\u001b[0m\u001b[0;34m\u001b[0m\u001b[0;34m\u001b[0m\u001b[0m\n\u001b[0m\u001b[1;32m      7\u001b[0m \u001b[0my_train\u001b[0m \u001b[0;34m=\u001b[0m \u001b[0mto_categorical\u001b[0m\u001b[0;34m(\u001b[0m\u001b[0mnp\u001b[0m\u001b[0;34m.\u001b[0m\u001b[0mstack\u001b[0m\u001b[0;34m(\u001b[0m\u001b[0mdf\u001b[0m\u001b[0;34m[\u001b[0m\u001b[0mdf\u001b[0m\u001b[0;34m[\u001b[0m\u001b[0;34m'train_test'\u001b[0m\u001b[0;34m]\u001b[0m\u001b[0;34m==\u001b[0m\u001b[0;34m'train'\u001b[0m\u001b[0;34m]\u001b[0m\u001b[0;34m[\u001b[0m\u001b[0;34m'mnist_label'\u001b[0m\u001b[0;34m]\u001b[0m\u001b[0;34m)\u001b[0m\u001b[0;34m)\u001b[0m\u001b[0;34m\u001b[0m\u001b[0;34m\u001b[0m\u001b[0m\n\u001b[1;32m      8\u001b[0m \u001b[0mx_test\u001b[0m \u001b[0;34m=\u001b[0m \u001b[0mnp\u001b[0m\u001b[0;34m.\u001b[0m\u001b[0mstack\u001b[0m\u001b[0;34m(\u001b[0m\u001b[0mdf\u001b[0m\u001b[0;34m[\u001b[0m\u001b[0mdf\u001b[0m\u001b[0;34m[\u001b[0m\u001b[0;34m'train_test'\u001b[0m\u001b[0;34m]\u001b[0m\u001b[0;34m==\u001b[0m\u001b[0;34m'test'\u001b[0m\u001b[0;34m]\u001b[0m\u001b[0;34m[\u001b[0m\u001b[0;34m'image'\u001b[0m\u001b[0;34m]\u001b[0m\u001b[0;34m)\u001b[0m\u001b[0;34m\u001b[0m\u001b[0;34m\u001b[0m\u001b[0m\n",
      "\u001b[0;31mNameError\u001b[0m: name 'np' is not defined"
     ]
    }
   ],
   "source": [
    "import tensorflow as tf\n",
    "from tensorflow.keras.utils import to_categorical\n",
    "\n",
    "# (x_train, y_train), (x_test, y_test) = tf.keras.datasets.mnist.load_data()\n",
    "\n",
    "x_train = np.stack(df[df['train_test']=='train']['image'])\n",
    "y_train = to_categorical(np.stack(df[df['train_test']=='train']['mnist_label']))\n",
    "x_test = np.stack(df[df['train_test']=='test']['image'])\n",
    "y_test = to_categorical(np.stack(df[df['train_test']=='test']['mnist_label']))\n",
    "\n",
    "model = create_cnn(regress=True, summarize=True)\n",
    "model.compile(optimizer=\"adam\", loss=\"categorical_crossentropy\", metrics=[\"accuracy\"])\n",
    "\n",
    "epochs = 10\n",
    "history = model.fit(x_train, y_train, validation_data=(x_test, y_test), epochs=epochs,\n",
    "          batch_size=32, verbose=True)"
   ]
  },
  {
   "cell_type": "code",
   "execution_count": 17,
   "metadata": {
    "colab": {
     "base_uri": "https://localhost:8080/",
     "height": 286
    },
    "id": "xlZBwTxLhaEL",
    "outputId": "ed7936ea-90d6-416b-a471-9ffdc4db4519"
   },
   "outputs": [
    {
     "data": {
      "text/plain": [
       "(0.975, 1.0)"
      ]
     },
     "execution_count": 17,
     "metadata": {},
     "output_type": "execute_result"
    },
    {
     "data": {
      "image/png": "[encoded data removed]",
      "text/plain": [
       "<Figure size 432x288 with 1 Axes>"
      ]
     },
     "metadata": {
      "needs_background": "light"
     },
     "output_type": "display_data"
    }
   ],
   "source": [
    "from matplotlib import pylab as plt\n",
    "plt.plot(history.history['accuracy'], label='train')\n",
    "plt.plot(history.history['val_accuracy'], label='test')\n",
    "plt.legend(loc='best')\n",
    "plt.ylabel('accuracy')\n",
    "plt.ylim([0.975, 1])"
   ]
  },
  {
   "cell_type": "markdown",
   "metadata": {},
   "source": [
    "# Create the MLP"
   ]
  },
  {
   "cell_type": "markdown",
   "metadata": {},
   "source": [
    "We need to create an MLP to handle the features other than the MNIST images in our data set as well as an MLP to combine the two types of data. "
   ]
  },
  {
   "cell_type": "code",
   "execution_count": 89,
   "metadata": {},
   "outputs": [],
   "source": [
    "# make sure we can predict the shipping fees if we know the weights\n",
    "import tensorflow as tf\n",
    "import numpy as np\n",
    "from keras.models import Sequential\n",
    "from keras.layers import Dense, Dropout, Flatten, Conv2D, MaxPool2D, AvgPool2D, BatchNormalization, Reshape\n",
    "from sklearn.preprocessing import MinMaxScaler, LabelBinarizer\n",
    "\n",
    "def preprocess_features(df, continuous, categorical):\n",
    "    train, test = (df['train_test']==i for i in ['train', 'test'])\n",
    "    \n",
    "    cs = MinMaxScaler().fit(df[train][continuous])\n",
    "    train_continuous = cs.transform(df[train][continuous])\n",
    "    test_continuous = cs.transform(df[test][continuous])\n",
    "    \n",
    "    if categorical:\n",
    "        binarizers = dict((feature, LabelBinarizer().fit(df[train][feature])) for feature in categorical)\n",
    "        train_categorical = np.hstack([binarizers[feature].transform(df[train][feature]) for feature in categorical])\n",
    "        test_categorical = np.hstack([binarizers[feature].transform(df[test][feature]) for feature in categorical])\n",
    "    else:\n",
    "        train_categorical = np.empty((len(df[train]),0))\n",
    "        test_categorical = np.empty((len(df[test]),0))\n",
    "\n",
    "    x_train = np.hstack([train_continuous, train_categorical])\n",
    "    y_train = df[train]['shipping_fee'].values\n",
    "\n",
    "    x_test = np.hstack([test_continuous, test_categorical])\n",
    "    y_test = df[test]['shipping_fee'].values\n",
    "    return x_train, y_train, x_test, y_test\n",
    "    \n",
    "\n",
    "def create_mlp(num_features, layer_sizes=[32,16], regress=False, summarize=False):\n",
    "    model = Sequential()\n",
    "    model.add(Dense(layer_sizes[0], input_shape=(num_features,), activation='relu'))\n",
    "    for layer_size in layer_sizes[1:]:\n",
    "        model.add(Dense(layer_size, activation='relu'))\n",
    "\n",
    "    if regress:\n",
    "        model.add(Dense(1, activation='linear'))\n",
    "\n",
    "    if summarize:\n",
    "        print(model.summary())    \n",
    "    return model\n",
    "    \n",
    " "
   ]
  },
  {
   "cell_type": "code",
   "execution_count": 90,
   "metadata": {
    "id": "sdqLKvsujCFT"
   },
   "outputs": [
    {
     "name": "stdout",
     "output_type": "stream",
     "text": [
      "Model: \"sequential_20\"\n",
      "_________________________________________________________________\n",
      " Layer (type)                Output Shape              Param #   \n",
      "=================================================================\n",
      " dense_66 (Dense)            (None, 32)                192       \n",
      "                                                                 \n",
      " dense_67 (Dense)            (None, 32)                1056      \n",
      "                                                                 \n",
      " dense_68 (Dense)            (None, 32)                1056      \n",
      "                                                                 \n",
      " dense_69 (Dense)            (None, 1)                 33        \n",
      "                                                                 \n",
      "=================================================================\n",
      "Total params: 2,337\n",
      "Trainable params: 2,337\n",
      "Non-trainable params: 0\n",
      "_________________________________________________________________\n",
      "None\n",
      "Epoch 1/5\n",
      "1875/1875 [==============================] - 2s 830us/step - loss: 3.8538 - mse: 3.8538 - val_loss: 0.1497 - val_mse: 0.1497\n",
      "Epoch 2/5\n",
      "1875/1875 [==============================] - 2s 812us/step - loss: 0.0756 - mse: 0.0756 - val_loss: 0.0421 - val_mse: 0.0421\n",
      "Epoch 3/5\n",
      "1875/1875 [==============================] - 2s 831us/step - loss: 0.0371 - mse: 0.0371 - val_loss: 0.0274 - val_mse: 0.0274\n",
      "Epoch 4/5\n",
      "1875/1875 [==============================] - 2s 815us/step - loss: 0.0283 - mse: 0.0283 - val_loss: 0.0232 - val_mse: 0.0232\n",
      "Epoch 5/5\n",
      "1875/1875 [==============================] - 1s 790us/step - loss: 0.0231 - mse: 0.0231 - val_loss: 0.0181 - val_mse: 0.0181\n"
     ]
    }
   ],
   "source": [
    "continuous = ['pickup_x', 'pickup_y', 'dropoff_x', 'dropoff_y', 'weight']\n",
    "categorical = 'mnist_label'\n",
    "layer_sizes = [32,32,32]\n",
    "epochs = 5\n",
    "    \n",
    "x_train, y_train, x_test, y_test = preprocess_features(df, continuous=continuous, categorical=None)\n",
    "mlp = create_mlp(num_features=x_train.shape[1], layer_sizes=layer_sizes, regress=True, summarize=True)\n",
    "\n",
    "mlp.compile(optimizer=\"adam\", loss=\"mse\", metrics=[\"mse\"])\n",
    "\n",
    "history = mlp.fit(x_train, y_train, validation_data=(x_test, y_test), epochs=epochs,\n",
    "          batch_size=32, verbose=True)"
   ]
  },
  {
   "cell_type": "code",
   "execution_count": 84,
   "metadata": {
    "id": "ckIbwxo_oJU9"
   },
   "outputs": [
    {
     "data": {
      "text/plain": [
       "(0.0, 0.1)"
      ]
     },
     "execution_count": 84,
     "metadata": {},
     "output_type": "execute_result"
    },
    {
     "data": {
      "image/png": "[encoded data removed]",
      "text/plain": [
       "<Figure size 432x288 with 1 Axes>"
      ]
     },
     "metadata": {
      "needs_background": "light"
     },
     "output_type": "display_data"
    }
   ],
   "source": [
    "from matplotlib import pylab as plt\n",
    "plt.plot(history.history['mse'], label='train')\n",
    "plt.plot(history.history['val_mse'], label='test')\n",
    "plt.legend(loc='best')\n",
    "plt.ylabel('mse')\n",
    "plt.ylim([0, .1])"
   ]
  },
  {
   "cell_type": "markdown",
   "metadata": {},
   "source": [
    "# Create model that combines the two branches"
   ]
  },
  {
   "cell_type": "code",
   "execution_count": 91,
   "metadata": {},
   "outputs": [
    {
     "ename": "TypeError",
     "evalue": "You are passing KerasTensor(type_spec=TensorSpec(shape=(None, 32), dtype=tf.float32, name=None), name='dense_73/Relu:0', description=\"created by layer 'dense_73'\"), an intermediate Keras symbolic input/output, to a TF API that does not allow registering custom dispatchers, such as `tf.cond`, `tf.function`, gradient tapes, or `tf.map_fn`. Keras Functional model construction only supports TF API calls that *do* support dispatching, such as `tf.math.add` or `tf.reshape`. Other APIs cannot be called directly on symbolic Kerasinputs/outputs. You can work around this limitation by putting the operation in a custom Keras layer `call` and calling that layer on this symbolic input/output.",
     "output_type": "error",
     "traceback": [
      "\u001b[0;31m---------------------------------------------------------------------------\u001b[0m",
      "\u001b[0;31mTypeError\u001b[0m                                 Traceback (most recent call last)",
      "\u001b[0;32m/var/folders/pc/8zrhplhx5mj0ygxhmvd5t9b00000gn/T/ipykernel_26324/4289026647.py\u001b[0m in \u001b[0;36m<module>\u001b[0;34m\u001b[0m\n\u001b[1;32m      5\u001b[0m \u001b[0mmlp\u001b[0m \u001b[0;34m=\u001b[0m \u001b[0mcreate_mlp\u001b[0m\u001b[0;34m(\u001b[0m\u001b[0mnum_features\u001b[0m\u001b[0;34m=\u001b[0m\u001b[0mx_train\u001b[0m\u001b[0;34m.\u001b[0m\u001b[0mshape\u001b[0m\u001b[0;34m[\u001b[0m\u001b[0;36m1\u001b[0m\u001b[0;34m]\u001b[0m\u001b[0;34m,\u001b[0m \u001b[0mlayer_sizes\u001b[0m\u001b[0;34m=\u001b[0m\u001b[0mlayer_sizes\u001b[0m\u001b[0;34m)\u001b[0m\u001b[0;34m\u001b[0m\u001b[0;34m\u001b[0m\u001b[0m\n\u001b[1;32m      6\u001b[0m \u001b[0;34m\u001b[0m\u001b[0m\n\u001b[0;32m----> 7\u001b[0;31m \u001b[0mcombined_output\u001b[0m \u001b[0;34m=\u001b[0m \u001b[0mnp\u001b[0m\u001b[0;34m.\u001b[0m\u001b[0mconcatenate\u001b[0m\u001b[0;34m(\u001b[0m\u001b[0;34m[\u001b[0m\u001b[0mmlp\u001b[0m\u001b[0;34m.\u001b[0m\u001b[0moutput\u001b[0m\u001b[0;34m,\u001b[0m \u001b[0mcnn\u001b[0m\u001b[0;34m.\u001b[0m\u001b[0moutput\u001b[0m\u001b[0;34m]\u001b[0m\u001b[0;34m)\u001b[0m\u001b[0;34m\u001b[0m\u001b[0;34m\u001b[0m\u001b[0m\n\u001b[0m\u001b[1;32m      8\u001b[0m \u001b[0;34m\u001b[0m\u001b[0m\n\u001b[1;32m      9\u001b[0m \u001b[0mx\u001b[0m \u001b[0;34m=\u001b[0m \u001b[0mDense\u001b[0m\u001b[0;34m(\u001b[0m\u001b[0;36m4\u001b[0m\u001b[0;34m,\u001b[0m \u001b[0mactivation\u001b[0m\u001b[0;34m=\u001b[0m\u001b[0;34m\"relu\"\u001b[0m\u001b[0;34m)\u001b[0m\u001b[0;34m(\u001b[0m\u001b[0mcombined_output\u001b[0m\u001b[0;34m)\u001b[0m\u001b[0;34m\u001b[0m\u001b[0;34m\u001b[0m\u001b[0m\n",
      "\u001b[0;32m<__array_function__ internals>\u001b[0m in \u001b[0;36mconcatenate\u001b[0;34m(*args, **kwargs)\u001b[0m\n",
      "\u001b[0;32m/usr/local/anaconda3/lib/python3.9/site-packages/keras/engine/keras_tensor.py\u001b[0m in \u001b[0;36m__array__\u001b[0;34m(self, dtype)\u001b[0m\n\u001b[1;32m    253\u001b[0m \u001b[0;34m\u001b[0m\u001b[0m\n\u001b[1;32m    254\u001b[0m   \u001b[0;32mdef\u001b[0m \u001b[0m__array__\u001b[0m\u001b[0;34m(\u001b[0m\u001b[0mself\u001b[0m\u001b[0;34m,\u001b[0m \u001b[0mdtype\u001b[0m\u001b[0;34m=\u001b[0m\u001b[0;32mNone\u001b[0m\u001b[0;34m)\u001b[0m\u001b[0;34m:\u001b[0m\u001b[0;34m\u001b[0m\u001b[0;34m\u001b[0m\u001b[0m\n\u001b[0;32m--> 255\u001b[0;31m     raise TypeError(\n\u001b[0m\u001b[1;32m    256\u001b[0m         \u001b[0;34mf'You are passing {self}, an intermediate Keras symbolic input/output, '\u001b[0m\u001b[0;34m\u001b[0m\u001b[0;34m\u001b[0m\u001b[0m\n\u001b[1;32m    257\u001b[0m         \u001b[0;34m'to a TF API that does not allow registering custom dispatchers, such '\u001b[0m\u001b[0;34m\u001b[0m\u001b[0;34m\u001b[0m\u001b[0m\n",
      "\u001b[0;31mTypeError\u001b[0m: You are passing KerasTensor(type_spec=TensorSpec(shape=(None, 32), dtype=tf.float32, name=None), name='dense_73/Relu:0', description=\"created by layer 'dense_73'\"), an intermediate Keras symbolic input/output, to a TF API that does not allow registering custom dispatchers, such as `tf.cond`, `tf.function`, gradient tapes, or `tf.map_fn`. Keras Functional model construction only supports TF API calls that *do* support dispatching, such as `tf.math.add` or `tf.reshape`. Other APIs cannot be called directly on symbolic Kerasinputs/outputs. You can work around this limitation by putting the operation in a custom Keras layer `call` and calling that layer on this symbolic input/output."
     ]
    }
   ],
   "source": [
    "cnn = create_cnn()\n",
    "\n",
    "features_train, y_train, features_test, y_test = preprocess_features(df, continuous=continuous, categorical=None)\n",
    "\n",
    "mlp = create_mlp(num_features=x_train.shape[1], layer_sizes=layer_sizes)\n",
    "\n",
    "combined_output = np.concatenate([mlp.output, cnn.output])\n",
    "\n",
    "x = Dense(4, activation=\"relu\")(combined_output)\n",
    "x = Dense(1, activation=\"linear\")(x)\n",
    "model = Model(inputs=[mlp.input, cnn.input], outputs=x)"
   ]
  },
  {
   "cell_type": "code",
   "execution_count": null,
   "metadata": {},
   "outputs": [],
   "source": []
  }
 ],
 "metadata": {
  "accelerator": "GPU",
  "colab": {
   "authorship_tag": "ABX9TyOftuG4JT9Rc5fH9xznedUv",
   "collapsed_sections": [],
   "include_colab_link": true,
   "name": "develop_models.ipynb",
   "provenance": []
  },
  "kernelspec": {
   "display_name": "Python 3 (ipykernel)",
   "language": "python",
   "name": "python3"
  },
  "language_info": {
   "codemirror_mode": {
    "name": "ipython",
    "version": 3
   },
   "file_extension": ".py",
   "mimetype": "text/x-python",
   "name": "python",
   "nbconvert_exporter": "python",
   "pygments_lexer": "ipython3",
   "version": "3.9.7"
  }
 },
 "nbformat": 4,
 "nbformat_minor": 1
}
