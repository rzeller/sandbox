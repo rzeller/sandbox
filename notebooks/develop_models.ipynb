{
  "nbformat": 4,
  "nbformat_minor": 0,
  "metadata": {
    "colab": {
      "name": "develop_models.ipynb",
      "provenance": [],
      "collapsed_sections": [],
      "authorship_tag": "ABX9TyPwxlTiQ90sTMQIHiBvwa3h",
      "include_colab_link": true
    },
    "kernelspec": {
      "name": "python3",
      "display_name": "Python 3"
    },
    "language_info": {
      "name": "python"
    },
    "accelerator": "GPU"
  },
  "cells": [
    {
      "cell_type": "markdown",
      "metadata": {
        "id": "view-in-github",
        "colab_type": "text"
      },
      "source": [
        "<a href=\"https://colab.research.google.com/github/rzeller/sandbox/blob/main/noteboooks/develop_models.ipynb\" target=\"_parent\"><img src=\"https://colab.research.google.com/assets/colab-badge.svg\" alt=\"Open In Colab\"/></a>"
      ]
    },
    {
      "cell_type": "code",
      "execution_count": 2,
      "metadata": {
        "colab": {
          "base_uri": "https://localhost:8080/"
        },
        "id": "iEbHwdqBQ3xO",
        "outputId": "b041c26d-b100-4c34-fa9a-70ceeca590e6"
      },
      "outputs": [
        {
          "output_type": "stream",
          "name": "stdout",
          "text": [
            "Mounted at /content/drive\n"
          ]
        }
      ],
      "source": [
        "from google.colab import drive\n",
        "drive.mount('/content/drive')"
      ]
    },
    {
      "cell_type": "code",
      "source": [
        "cd /content/drive/MyDrive/code/sandbox"
      ],
      "metadata": {
        "colab": {
          "base_uri": "https://localhost:8080/"
        },
        "id": "D-D9OiWBRCII",
        "outputId": "ae785431-e6c0-40f1-e550-9eed479e9cb4"
      },
      "execution_count": 3,
      "outputs": [
        {
          "output_type": "stream",
          "name": "stdout",
          "text": [
            "/content/drive/MyDrive/code/sandbox\n"
          ]
        }
      ]
    },
    {
      "cell_type": "code",
      "source": [
        "!git pull origin HEAD"
      ],
      "metadata": {
        "colab": {
          "base_uri": "https://localhost:8080/"
        },
        "id": "NNh--rXhRsuX",
        "outputId": "98591712-c9ca-4445-d820-983770587af3"
      },
      "execution_count": 15,
      "outputs": [
        {
          "output_type": "stream",
          "name": "stdout",
          "text": [
            "remote: Enumerating objects: 5, done.\u001b[K\n",
            "remote: Counting objects:  20% (1/5)\u001b[K\rremote: Counting objects:  40% (2/5)\u001b[K\rremote: Counting objects:  60% (3/5)\u001b[K\rremote: Counting objects:  80% (4/5)\u001b[K\rremote: Counting objects: 100% (5/5)\u001b[K\rremote: Counting objects: 100% (5/5), done.\u001b[K\n",
            "remote: Compressing objects:  50% (1/2)\u001b[K\rremote: Compressing objects: 100% (2/2)\u001b[K\rremote: Compressing objects: 100% (2/2), done.\u001b[K\n",
            "remote: Total 3 (delta 1), reused 3 (delta 1), pack-reused 0\u001b[K\n",
            "Unpacking objects:  33% (1/3)   \rUnpacking objects:  66% (2/3)   \rUnpacking objects: 100% (3/3)   \rUnpacking objects: 100% (3/3), done.\n",
            "From https://github.com/rzeller/sandbox\n",
            " * branch            HEAD       -> FETCH_HEAD\n",
            "Updating 468539f..eb6e2aa\n",
            "Fast-forward\n",
            " .../create_shipping_fee_data.ipynb                                        | 0\n",
            " 1 file changed, 0 insertions(+), 0 deletions(-)\n",
            " rename create_shipping_fee_data.ipynb => notebooks/create_shipping_fee_data.ipynb (100%)\n"
          ]
        }
      ]
    },
    {
      "cell_type": "code",
      "source": [
        "from importlib import reload\n",
        "import create_data\n",
        "reload(create_data)"
      ],
      "metadata": {
        "colab": {
          "base_uri": "https://localhost:8080/"
        },
        "id": "_cm26N_oRLiz",
        "outputId": "ddea6b6c-965d-402e-db23-165cc13d7fb6"
      },
      "execution_count": 17,
      "outputs": [
        {
          "output_type": "execute_result",
          "data": {
            "text/plain": [
              "<module 'create_data' from '/content/drive/My Drive/code/sandbox/create_data.py'>"
            ]
          },
          "metadata": {},
          "execution_count": 17
        }
      ]
    },
    {
      "cell_type": "code",
      "source": [
        "df = create_data.create_synthetic_data()"
      ],
      "metadata": {
        "colab": {
          "base_uri": "https://localhost:8080/"
        },
        "id": "pBTHtD8FRXDP",
        "outputId": "430e0cd3-07ba-40f0-b33d-3f22e38e7eb8"
      },
      "execution_count": 18,
      "outputs": [
        {
          "output_type": "stream",
          "name": "stdout",
          "text": [
            "Downloading data from https://storage.googleapis.com/tensorflow/tf-keras-datasets/mnist.npz\n",
            "11493376/11490434 [==============================] - 0s 0us/step\n",
            "11501568/11490434 [==============================] - 0s 0us/step\n"
          ]
        }
      ]
    },
    {
      "cell_type": "code",
      "source": [
        "df.head()"
      ],
      "metadata": {
        "colab": {
          "base_uri": "https://localhost:8080/",
          "height": 380
        },
        "id": "fkD9znWmReKl",
        "outputId": "f81975a7-9024-4b47-e1fa-4f337aae448b"
      },
      "execution_count": 19,
      "outputs": [
        {
          "output_type": "execute_result",
          "data": {
            "text/html": [
              "<div>\n",
              "<style scoped>\n",
              "    .dataframe tbody tr th:only-of-type {\n",
              "        vertical-align: middle;\n",
              "    }\n",
              "\n",
              "    .dataframe tbody tr th {\n",
              "        vertical-align: top;\n",
              "    }\n",
              "\n",
              "    .dataframe thead th {\n",
              "        text-align: right;\n",
              "    }\n",
              "</style>\n",
              "<table border=\"1\" class=\"dataframe\">\n",
              "  <thead>\n",
              "    <tr style=\"text-align: right;\">\n",
              "      <th></th>\n",
              "      <th>mnist_label</th>\n",
              "      <th>image</th>\n",
              "      <th>weight</th>\n",
              "      <th>pickup_x</th>\n",
              "      <th>pickup_y</th>\n",
              "      <th>dropoff_x</th>\n",
              "      <th>dropoff_y</th>\n",
              "      <th>distance</th>\n",
              "      <th>shipping_fee</th>\n",
              "      <th>train_test</th>\n",
              "    </tr>\n",
              "  </thead>\n",
              "  <tbody>\n",
              "    <tr>\n",
              "      <th>0</th>\n",
              "      <td>5</td>\n",
              "      <td>[[0, 0, 0, 0, 0, 0, 0, 0, 0, 0, 0, 0, 0, 0, 0,...</td>\n",
              "      <td>5.408326</td>\n",
              "      <td>2044.894335</td>\n",
              "      <td>526.932781</td>\n",
              "      <td>681.590512</td>\n",
              "      <td>215.282170</td>\n",
              "      <td>1398.471815</td>\n",
              "      <td>7.563392</td>\n",
              "      <td>train</td>\n",
              "    </tr>\n",
              "    <tr>\n",
              "      <th>1</th>\n",
              "      <td>0</td>\n",
              "      <td>[[0, 0, 0, 0, 0, 0, 0, 0, 0, 0, 0, 0, 0, 0, 0,...</td>\n",
              "      <td>-0.466388</td>\n",
              "      <td>1306.827710</td>\n",
              "      <td>126.124026</td>\n",
              "      <td>1439.279430</td>\n",
              "      <td>279.702709</td>\n",
              "      <td>202.805005</td>\n",
              "      <td>5.000000</td>\n",
              "      <td>train</td>\n",
              "    </tr>\n",
              "    <tr>\n",
              "      <th>2</th>\n",
              "      <td>4</td>\n",
              "      <td>[[0, 0, 0, 0, 0, 0, 0, 0, 0, 0, 0, 0, 0, 0, 0,...</td>\n",
              "      <td>4.297544</td>\n",
              "      <td>1005.352596</td>\n",
              "      <td>442.201495</td>\n",
              "      <td>1441.618292</td>\n",
              "      <td>64.585654</td>\n",
              "      <td>576.993485</td>\n",
              "      <td>5.000000</td>\n",
              "      <td>train</td>\n",
              "    </tr>\n",
              "    <tr>\n",
              "      <th>3</th>\n",
              "      <td>1</td>\n",
              "      <td>[[0, 0, 0, 0, 0, 0, 0, 0, 0, 0, 0, 0, 0, 0, 0,...</td>\n",
              "      <td>0.625200</td>\n",
              "      <td>1829.997094</td>\n",
              "      <td>51.020981</td>\n",
              "      <td>623.866465</td>\n",
              "      <td>996.389647</td>\n",
              "      <td>1532.472841</td>\n",
              "      <td>5.000000</td>\n",
              "      <td>train</td>\n",
              "    </tr>\n",
              "    <tr>\n",
              "      <th>4</th>\n",
              "      <td>9</td>\n",
              "      <td>[[0, 0, 0, 0, 0, 0, 0, 0, 0, 0, 0, 0, 0, 0, 0,...</td>\n",
              "      <td>9.061304</td>\n",
              "      <td>2501.958980</td>\n",
              "      <td>140.179468</td>\n",
              "      <td>1562.973998</td>\n",
              "      <td>86.162393</td>\n",
              "      <td>940.537422</td>\n",
              "      <td>8.522495</td>\n",
              "      <td>train</td>\n",
              "    </tr>\n",
              "  </tbody>\n",
              "</table>\n",
              "</div>"
            ],
            "text/plain": [
              "   mnist_label  ... train_test\n",
              "0            5  ...      train\n",
              "1            0  ...      train\n",
              "2            4  ...      train\n",
              "3            1  ...      train\n",
              "4            9  ...      train\n",
              "\n",
              "[5 rows x 10 columns]"
            ]
          },
          "metadata": {},
          "execution_count": 19
        }
      ]
    },
    {
      "cell_type": "code",
      "source": [
        ""
      ],
      "metadata": {
        "id": "2hG8lryDRiNq"
      },
      "execution_count": null,
      "outputs": []
    },
    {
      "cell_type": "markdown",
      "source": [
        "#Create model"
      ],
      "metadata": {
        "id": "y0TfEfxqSeZk"
      }
    },
    {
      "cell_type": "code",
      "source": [
        "import tensorflow"
      ],
      "metadata": {
        "id": "wDTCjYdiSgCu"
      },
      "execution_count": 20,
      "outputs": []
    },
    {
      "cell_type": "code",
      "source": [
        "#models\n",
        "\n",
        "# create cnn\n",
        "from keras.models import Sequential\n",
        "from keras.layers import Dense, Dropout, Flatten, Conv2D, MaxPool2D, AvgPool2D, BatchNormalization, Reshape\n",
        "\n",
        "# 784 - [32C5-P2] - [64C5-P2] - 128 -10\n",
        "def create_cnn(regress=False, summarize=False):\n",
        "  model = Sequential()\n",
        "  model.add(Conv2D(filters=32, kernel_size=5, activation='relu', input_shape=(28, 28, 1)))\n",
        "  model.add(MaxPool2D())\n",
        "  model.add(Conv2D(filters=64, kernel_size=5, activation='relu'))\n",
        "  model.add(MaxPool2D())\n",
        "  model.add(Flatten())\n",
        "  model.add(Dense(128, activation='relu'))\n",
        "\n",
        "  if regress:\n",
        "    model.add(Dense(10, activation='softmax'))\n",
        "\n",
        "  if summarize:\n",
        "    print(model.summary())\n",
        "  \n",
        "  return model\n"
      ],
      "metadata": {
        "id": "Tk7EpfUaShsQ"
      },
      "execution_count": 2,
      "outputs": []
    },
    {
      "cell_type": "code",
      "source": [
        "import tensorflow as tf\n",
        "from tensorflow.keras.utils import to_categorical\n",
        "\n",
        "(x_train, y_train), (x_test, y_test) = tf.keras.datasets.mnist.load_data()\n",
        "\n",
        "y_train = to_categorical(y_train)\n",
        "y_test = to_categorical(y_test)\n",
        "\n",
        "model = create_cnn(regress=True, summarize=True)\n",
        "model.compile(optimizer=\"adam\", loss=\"categorical_crossentropy\", metrics=[\"accuracy\"])\n",
        "\n",
        "epochs = 20\n",
        "history = model.fit(x_train, y_train, validation_data=(x_test, y_test), epochs=epochs,\n",
        "          batch_size=32, verbose=True)"
      ],
      "metadata": {
        "colab": {
          "base_uri": "https://localhost:8080/"
        },
        "id": "hKxozxPshZLK",
        "outputId": "e55ad645-a8a9-4d8e-f9ef-39d2f85165a0"
      },
      "execution_count": 4,
      "outputs": [
        {
          "output_type": "stream",
          "name": "stdout",
          "text": [
            "Model: \"sequential_1\"\n",
            "_________________________________________________________________\n",
            " Layer (type)                Output Shape              Param #   \n",
            "=================================================================\n",
            " conv2d_2 (Conv2D)           (None, 24, 24, 32)        832       \n",
            "                                                                 \n",
            " max_pooling2d_2 (MaxPooling  (None, 12, 12, 32)       0         \n",
            " 2D)                                                             \n",
            "                                                                 \n",
            " conv2d_3 (Conv2D)           (None, 8, 8, 64)          51264     \n",
            "                                                                 \n",
            " max_pooling2d_3 (MaxPooling  (None, 4, 4, 64)         0         \n",
            " 2D)                                                             \n",
            "                                                                 \n",
            " flatten_1 (Flatten)         (None, 1024)              0         \n",
            "                                                                 \n",
            " dense_2 (Dense)             (None, 128)               131200    \n",
            "                                                                 \n",
            " dense_3 (Dense)             (None, 10)                1290      \n",
            "                                                                 \n",
            "=================================================================\n",
            "Total params: 184,586\n",
            "Trainable params: 184,586\n",
            "Non-trainable params: 0\n",
            "_________________________________________________________________\n",
            "None\n",
            "Epoch 1/20\n",
            "1875/1875 [==============================] - 13s 7ms/step - loss: 0.2226 - accuracy: 0.9540 - val_loss: 0.0660 - val_accuracy: 0.9811\n",
            "Epoch 2/20\n",
            "1875/1875 [==============================] - 13s 7ms/step - loss: 0.0633 - accuracy: 0.9818 - val_loss: 0.0505 - val_accuracy: 0.9848\n",
            "Epoch 3/20\n",
            "1875/1875 [==============================] - 13s 7ms/step - loss: 0.0527 - accuracy: 0.9846 - val_loss: 0.0720 - val_accuracy: 0.9818\n",
            "Epoch 4/20\n",
            "1875/1875 [==============================] - 13s 7ms/step - loss: 0.0428 - accuracy: 0.9870 - val_loss: 0.0841 - val_accuracy: 0.9800\n",
            "Epoch 5/20\n",
            "1875/1875 [==============================] - 13s 7ms/step - loss: 0.0381 - accuracy: 0.9890 - val_loss: 0.0535 - val_accuracy: 0.9846\n",
            "Epoch 6/20\n",
            "1875/1875 [==============================] - 13s 7ms/step - loss: 0.0365 - accuracy: 0.9903 - val_loss: 0.0553 - val_accuracy: 0.9872\n",
            "Epoch 7/20\n",
            "1875/1875 [==============================] - 13s 7ms/step - loss: 0.0325 - accuracy: 0.9911 - val_loss: 0.0576 - val_accuracy: 0.9866\n",
            "Epoch 8/20\n",
            "1875/1875 [==============================] - 13s 7ms/step - loss: 0.0319 - accuracy: 0.9919 - val_loss: 0.0710 - val_accuracy: 0.9827\n",
            "Epoch 9/20\n",
            "1875/1875 [==============================] - 12s 7ms/step - loss: 0.0291 - accuracy: 0.9924 - val_loss: 0.0681 - val_accuracy: 0.9877\n",
            "Epoch 10/20\n",
            "1875/1875 [==============================] - 13s 7ms/step - loss: 0.0326 - accuracy: 0.9927 - val_loss: 0.0963 - val_accuracy: 0.9850\n",
            "Epoch 11/20\n",
            "1875/1875 [==============================] - 13s 7ms/step - loss: 0.0263 - accuracy: 0.9935 - val_loss: 0.0722 - val_accuracy: 0.9874\n",
            "Epoch 12/20\n",
            "1875/1875 [==============================] - 13s 7ms/step - loss: 0.0234 - accuracy: 0.9945 - val_loss: 0.0894 - val_accuracy: 0.9884\n",
            "Epoch 13/20\n",
            "1875/1875 [==============================] - 13s 7ms/step - loss: 0.0334 - accuracy: 0.9932 - val_loss: 0.0919 - val_accuracy: 0.9853\n",
            "Epoch 14/20\n",
            "1875/1875 [==============================] - 13s 7ms/step - loss: 0.0272 - accuracy: 0.9940 - val_loss: 0.0748 - val_accuracy: 0.9894\n",
            "Epoch 15/20\n",
            "1875/1875 [==============================] - 13s 7ms/step - loss: 0.0291 - accuracy: 0.9943 - val_loss: 0.0964 - val_accuracy: 0.9848\n",
            "Epoch 16/20\n",
            "1875/1875 [==============================] - 13s 7ms/step - loss: 0.0327 - accuracy: 0.9941 - val_loss: 0.1147 - val_accuracy: 0.9855\n",
            "Epoch 17/20\n",
            "1875/1875 [==============================] - 13s 7ms/step - loss: 0.0204 - accuracy: 0.9960 - val_loss: 0.1174 - val_accuracy: 0.9860\n",
            "Epoch 18/20\n",
            "1875/1875 [==============================] - 13s 7ms/step - loss: 0.0343 - accuracy: 0.9946 - val_loss: 0.1293 - val_accuracy: 0.9862\n",
            "Epoch 19/20\n",
            "1875/1875 [==============================] - 13s 7ms/step - loss: 0.0251 - accuracy: 0.9955 - val_loss: 0.1302 - val_accuracy: 0.9871\n",
            "Epoch 20/20\n",
            "1875/1875 [==============================] - 13s 7ms/step - loss: 0.0342 - accuracy: 0.9952 - val_loss: 0.1481 - val_accuracy: 0.9867\n"
          ]
        }
      ]
    },
    {
      "cell_type": "code",
      "source": [
        "from matplotlib import pylab as plt\n",
        "plt.plot(history.history['val_accuracy'])\n",
        "plt.plot(history.history['accuracy'])\n",
        "plt.ylim([0.975, 1])"
      ],
      "metadata": {
        "colab": {
          "base_uri": "https://localhost:8080/",
          "height": 286
        },
        "id": "xlZBwTxLhaEL",
        "outputId": "ed7936ea-90d6-416b-a471-9ffdc4db4519"
      },
      "execution_count": 16,
      "outputs": [
        {
          "output_type": "execute_result",
          "data": {
            "text/plain": [
              "(0.975, 1.0)"
            ]
          },
          "metadata": {},
          "execution_count": 16
        },
        {
          "output_type": "display_data",
          "data": {
            "image/png": "[encoded data removed]",
            "text/plain": [
              "<Figure size 432x288 with 1 Axes>"
            ]
          },
          "metadata": {
            "needs_background": "light"
          }
        }
      ]
    },
    {
      "cell_type": "code",
      "source": [
        "history.history"
      ],
      "metadata": {
        "colab": {
          "base_uri": "https://localhost:8080/"
        },
        "id": "sdqLKvsujCFT",
        "outputId": "e2ca9b40-a1f8-4344-ab30-e5d8bb894f05"
      },
      "execution_count": 12,
      "outputs": [
        {
          "output_type": "execute_result",
          "data": {
            "text/plain": [
              "{'accuracy': [0.9540166854858398,\n",
              "  0.9817500114440918,\n",
              "  0.9845666885375977,\n",
              "  0.9870499968528748,\n",
              "  0.9889666438102722,\n",
              "  0.9902666807174683,\n",
              "  0.9911333322525024,\n",
              "  0.9919166564941406,\n",
              "  0.9924166798591614,\n",
              "  0.9927166700363159,\n",
              "  0.993483304977417,\n",
              "  0.994533360004425,\n",
              "  0.993233323097229,\n",
              "  0.9940000176429749,\n",
              "  0.9942833185195923,\n",
              "  0.9940500259399414,\n",
              "  0.9959666728973389,\n",
              "  0.994616687297821,\n",
              "  0.9955166578292847,\n",
              "  0.9951833486557007],\n",
              " 'loss': [0.22259113192558289,\n",
              "  0.06330691277980804,\n",
              "  0.052690669894218445,\n",
              "  0.04281654953956604,\n",
              "  0.03807969018816948,\n",
              "  0.036497823894023895,\n",
              "  0.032452650368213654,\n",
              "  0.031925469636917114,\n",
              "  0.02905629388988018,\n",
              "  0.032600682228803635,\n",
              "  0.02634207159280777,\n",
              "  0.023401468992233276,\n",
              "  0.033393990248441696,\n",
              "  0.027204595506191254,\n",
              "  0.029058046638965607,\n",
              "  0.032719213515520096,\n",
              "  0.020420145243406296,\n",
              "  0.03427823260426521,\n",
              "  0.025097252801060677,\n",
              "  0.03422551974654198],\n",
              " 'val_accuracy': [0.9811000227928162,\n",
              "  0.9847999811172485,\n",
              "  0.9818000197410583,\n",
              "  0.9800000190734863,\n",
              "  0.9846000075340271,\n",
              "  0.9872000217437744,\n",
              "  0.9865999817848206,\n",
              "  0.982699990272522,\n",
              "  0.9876999855041504,\n",
              "  0.9850000143051147,\n",
              "  0.9873999953269958,\n",
              "  0.9883999824523926,\n",
              "  0.9853000044822693,\n",
              "  0.9894000291824341,\n",
              "  0.9847999811172485,\n",
              "  0.9854999780654907,\n",
              "  0.9860000014305115,\n",
              "  0.9861999750137329,\n",
              "  0.9871000051498413,\n",
              "  0.9866999983787537],\n",
              " 'val_loss': [0.06603510677814484,\n",
              "  0.050538867712020874,\n",
              "  0.07196538150310516,\n",
              "  0.08406372368335724,\n",
              "  0.053452424705028534,\n",
              "  0.055326782166957855,\n",
              "  0.05759522691369057,\n",
              "  0.07095112651586533,\n",
              "  0.06812451034784317,\n",
              "  0.09625349938869476,\n",
              "  0.0722242146730423,\n",
              "  0.08939708024263382,\n",
              "  0.09189768880605698,\n",
              "  0.07477069646120071,\n",
              "  0.0964212492108345,\n",
              "  0.11468343436717987,\n",
              "  0.1174049898982048,\n",
              "  0.12932905554771423,\n",
              "  0.13022349774837494,\n",
              "  0.14813953638076782]}"
            ]
          },
          "metadata": {},
          "execution_count": 12
        }
      ]
    },
    {
      "cell_type": "code",
      "source": [
        ""
      ],
      "metadata": {
        "id": "ckIbwxo_oJU9"
      },
      "execution_count": null,
      "outputs": []
    }
  ]
}