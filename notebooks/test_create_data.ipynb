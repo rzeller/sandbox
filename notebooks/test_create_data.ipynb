{
 "cells": [
  {
   "cell_type": "code",
   "execution_count": 5,
   "id": "258cf7ce",
   "metadata": {},
   "outputs": [
    {
     "data": {
      "text/plain": [
       "<module 'create_data' from '/Users/rzeller/Documents/Notebooks/sandbox/notebooks/../create_data.py'>"
      ]
     },
     "execution_count": 5,
     "metadata": {},
     "output_type": "execute_result"
    }
   ],
   "source": [
    "import sys\n",
    "sys.path.append(\"..\")\n",
    "from importlib import reload\n",
    "\n",
    "import create_data\n",
    "reload(create_data)"
   ]
  },
  {
   "cell_type": "code",
   "execution_count": 6,
   "id": "bf1b6bc5",
   "metadata": {},
   "outputs": [],
   "source": [
    "df = create_data.create_synthetic_data()"
   ]
  },
  {
   "cell_type": "code",
   "execution_count": 7,
   "id": "e936f019",
   "metadata": {},
   "outputs": [
    {
     "data": {
      "text/html": [
       "<div>\n",
       "<style scoped>\n",
       "    .dataframe tbody tr th:only-of-type {\n",
       "        vertical-align: middle;\n",
       "    }\n",
       "\n",
       "    .dataframe tbody tr th {\n",
       "        vertical-align: top;\n",
       "    }\n",
       "\n",
       "    .dataframe thead th {\n",
       "        text-align: right;\n",
       "    }\n",
       "</style>\n",
       "<table border=\"1\" class=\"dataframe\">\n",
       "  <thead>\n",
       "    <tr style=\"text-align: right;\">\n",
       "      <th></th>\n",
       "      <th>mnist_label</th>\n",
       "      <th>image</th>\n",
       "      <th>weight</th>\n",
       "      <th>pickup_x</th>\n",
       "      <th>pickup_y</th>\n",
       "      <th>dropoff_x</th>\n",
       "      <th>dropoff_y</th>\n",
       "      <th>distance</th>\n",
       "      <th>shipping_fee</th>\n",
       "      <th>train_test</th>\n",
       "    </tr>\n",
       "  </thead>\n",
       "  <tbody>\n",
       "    <tr>\n",
       "      <th>0</th>\n",
       "      <td>5</td>\n",
       "      <td>[[0, 0, 0, 0, 0, 0, 0, 0, 0, 0, 0, 0, 0, 0, 0,...</td>\n",
       "      <td>5.239237</td>\n",
       "      <td>1316.215289</td>\n",
       "      <td>302.664544</td>\n",
       "      <td>2569.692648</td>\n",
       "      <td>825.339914</td>\n",
       "      <td>1358.085060</td>\n",
       "      <td>7.115329</td>\n",
       "      <td>train</td>\n",
       "    </tr>\n",
       "    <tr>\n",
       "      <th>1</th>\n",
       "      <td>0</td>\n",
       "      <td>[[0, 0, 0, 0, 0, 0, 0, 0, 0, 0, 0, 0, 0, 0, 0,...</td>\n",
       "      <td>-0.283047</td>\n",
       "      <td>1726.380478</td>\n",
       "      <td>44.157049</td>\n",
       "      <td>41.556577</td>\n",
       "      <td>965.730793</td>\n",
       "      <td>1920.398329</td>\n",
       "      <td>5.000000</td>\n",
       "      <td>train</td>\n",
       "    </tr>\n",
       "    <tr>\n",
       "      <th>2</th>\n",
       "      <td>4</td>\n",
       "      <td>[[0, 0, 0, 0, 0, 0, 0, 0, 0, 0, 0, 0, 0, 0, 0,...</td>\n",
       "      <td>4.493474</td>\n",
       "      <td>798.018324</td>\n",
       "      <td>92.553466</td>\n",
       "      <td>1530.537416</td>\n",
       "      <td>179.967045</td>\n",
       "      <td>737.716310</td>\n",
       "      <td>5.000000</td>\n",
       "      <td>train</td>\n",
       "    </tr>\n",
       "    <tr>\n",
       "      <th>3</th>\n",
       "      <td>1</td>\n",
       "      <td>[[0, 0, 0, 0, 0, 0, 0, 0, 0, 0, 0, 0, 0, 0, 0,...</td>\n",
       "      <td>0.708555</td>\n",
       "      <td>998.802113</td>\n",
       "      <td>46.723697</td>\n",
       "      <td>2819.592689</td>\n",
       "      <td>894.378278</td>\n",
       "      <td>2008.431380</td>\n",
       "      <td>5.000000</td>\n",
       "      <td>train</td>\n",
       "    </tr>\n",
       "    <tr>\n",
       "      <th>4</th>\n",
       "      <td>9</td>\n",
       "      <td>[[0, 0, 0, 0, 0, 0, 0, 0, 0, 0, 0, 0, 0, 0, 0,...</td>\n",
       "      <td>8.659883</td>\n",
       "      <td>2230.836031</td>\n",
       "      <td>934.152845</td>\n",
       "      <td>2609.979358</td>\n",
       "      <td>538.259465</td>\n",
       "      <td>548.161683</td>\n",
       "      <td>5.000000</td>\n",
       "      <td>train</td>\n",
       "    </tr>\n",
       "  </tbody>\n",
       "</table>\n",
       "</div>"
      ],
      "text/plain": [
       "   mnist_label                                              image    weight  \\\n",
       "0            5  [[0, 0, 0, 0, 0, 0, 0, 0, 0, 0, 0, 0, 0, 0, 0,...  5.239237   \n",
       "1            0  [[0, 0, 0, 0, 0, 0, 0, 0, 0, 0, 0, 0, 0, 0, 0,... -0.283047   \n",
       "2            4  [[0, 0, 0, 0, 0, 0, 0, 0, 0, 0, 0, 0, 0, 0, 0,...  4.493474   \n",
       "3            1  [[0, 0, 0, 0, 0, 0, 0, 0, 0, 0, 0, 0, 0, 0, 0,...  0.708555   \n",
       "4            9  [[0, 0, 0, 0, 0, 0, 0, 0, 0, 0, 0, 0, 0, 0, 0,...  8.659883   \n",
       "\n",
       "      pickup_x    pickup_y    dropoff_x   dropoff_y     distance  \\\n",
       "0  1316.215289  302.664544  2569.692648  825.339914  1358.085060   \n",
       "1  1726.380478   44.157049    41.556577  965.730793  1920.398329   \n",
       "2   798.018324   92.553466  1530.537416  179.967045   737.716310   \n",
       "3   998.802113   46.723697  2819.592689  894.378278  2008.431380   \n",
       "4  2230.836031  934.152845  2609.979358  538.259465   548.161683   \n",
       "\n",
       "   shipping_fee train_test  \n",
       "0      7.115329      train  \n",
       "1      5.000000      train  \n",
       "2      5.000000      train  \n",
       "3      5.000000      train  \n",
       "4      5.000000      train  "
      ]
     },
     "execution_count": 7,
     "metadata": {},
     "output_type": "execute_result"
    }
   ],
   "source": [
    "df.head()"
   ]
  },
  {
   "cell_type": "code",
   "execution_count": null,
   "id": "902d6d7d",
   "metadata": {},
   "outputs": [],
   "source": []
  }
 ],
 "metadata": {
  "kernelspec": {
   "display_name": "Python 3 (ipykernel)",
   "language": "python",
   "name": "python3"
  },
  "language_info": {
   "codemirror_mode": {
    "name": "ipython",
    "version": 3
   },
   "file_extension": ".py",
   "mimetype": "text/x-python",
   "name": "python",
   "nbconvert_exporter": "python",
   "pygments_lexer": "ipython3",
   "version": "3.9.6"
  }
 },
 "nbformat": 4,
 "nbformat_minor": 5
}
